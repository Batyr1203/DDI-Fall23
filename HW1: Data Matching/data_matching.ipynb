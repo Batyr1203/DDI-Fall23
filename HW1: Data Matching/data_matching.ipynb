{
 "cells": [
  {
   "cell_type": "markdown",
   "id": "6a0f3275",
   "metadata": {},
   "source": [
    "# Homework 1: Data Matching"
   ]
  },
  {
   "cell_type": "code",
   "execution_count": 2,
   "id": "21b4bdc3",
   "metadata": {},
   "outputs": [],
   "source": [
    "import pandas as pd\n",
    "import numpy as np\n",
    "import matplotlib.pyplot as plt\n",
    "\n",
    "from string2string.distance import LevenshteinEditDistance, JaccardIndex\n",
    "from string2string.similarity import JaroSimilarity\n",
    "from string2string.misc import Tokenizer\n",
    "from sklearn.metrics import roc_curve, roc_auc_score\n",
    "\n",
    "import nltk\n",
    "from nltk.corpus import wordnet\n",
    "import spacy\n",
    "\n",
    "from itertools import chain\n",
    "from collections import Counter\n",
    "import re\n"
   ]
  },
  {
   "cell_type": "markdown",
   "id": "bbd56f28",
   "metadata": {},
   "source": [
    "# 1. Data"
   ]
  },
  {
   "cell_type": "code",
   "execution_count": 3,
   "id": "0b0f22ae",
   "metadata": {},
   "outputs": [
    {
     "data": {
      "text/html": [
       "<div>\n",
       "<style scoped>\n",
       "    .dataframe tbody tr th:only-of-type {\n",
       "        vertical-align: middle;\n",
       "    }\n",
       "\n",
       "    .dataframe tbody tr th {\n",
       "        vertical-align: top;\n",
       "    }\n",
       "\n",
       "    .dataframe thead th {\n",
       "        text-align: right;\n",
       "    }\n",
       "</style>\n",
       "<table border=\"1\" class=\"dataframe\">\n",
       "  <thead>\n",
       "    <tr style=\"text-align: right;\">\n",
       "      <th></th>\n",
       "      <th>Amazon</th>\n",
       "      <th>Google</th>\n",
       "      <th>Match</th>\n",
       "    </tr>\n",
       "  </thead>\n",
       "  <tbody>\n",
       "    <tr>\n",
       "      <th>0</th>\n",
       "      <td>clickart 950 000 - premier image pack (dvd-rom)</td>\n",
       "      <td>clickart 950000 - premier image pack (dvd-rom)</td>\n",
       "      <td>1</td>\n",
       "    </tr>\n",
       "    <tr>\n",
       "      <th>1</th>\n",
       "      <td>noah's ark activity center (jewel case ages 3-8)</td>\n",
       "      <td>the beginners bible: noah's ark activity cente...</td>\n",
       "      <td>1</td>\n",
       "    </tr>\n",
       "    <tr>\n",
       "      <th>2</th>\n",
       "      <td>peachtree by sage premium accounting for nonpr...</td>\n",
       "      <td>sage (ptree) - vernfp2007rt - premium accounti...</td>\n",
       "      <td>1</td>\n",
       "    </tr>\n",
       "    <tr>\n",
       "      <th>3</th>\n",
       "      <td>singing coach unlimited</td>\n",
       "      <td>singing coach unlimited - electronic learning ...</td>\n",
       "      <td>1</td>\n",
       "    </tr>\n",
       "    <tr>\n",
       "      <th>4</th>\n",
       "      <td>adobe after effects professional 6.5 upgrade f...</td>\n",
       "      <td>adobe software 22070152 after effects 6.5 pbupgrd</td>\n",
       "      <td>1</td>\n",
       "    </tr>\n",
       "    <tr>\n",
       "      <th>...</th>\n",
       "      <td>...</td>\n",
       "      <td>...</td>\n",
       "      <td>...</td>\n",
       "    </tr>\n",
       "    <tr>\n",
       "      <th>2595</th>\n",
       "      <td>shapes</td>\n",
       "      <td>aspyr media inc enemy territory: quake wars</td>\n",
       "      <td>0</td>\n",
       "    </tr>\n",
       "    <tr>\n",
       "      <th>2596</th>\n",
       "      <td>dragon naturally speaking standard v9</td>\n",
       "      <td>print shop deluxe 21</td>\n",
       "      <td>0</td>\n",
       "    </tr>\n",
       "    <tr>\n",
       "      <th>2597</th>\n",
       "      <td>mediarecover</td>\n",
       "      <td>sony media software acid pro 5 music productio...</td>\n",
       "      <td>0</td>\n",
       "    </tr>\n",
       "    <tr>\n",
       "      <th>2598</th>\n",
       "      <td>mediarecover</td>\n",
       "      <td>instant immersion italian 2.0</td>\n",
       "      <td>0</td>\n",
       "    </tr>\n",
       "    <tr>\n",
       "      <th>2599</th>\n",
       "      <td>photo explosion 3.0</td>\n",
       "      <td>punch software 85100 - punch!master landscape ...</td>\n",
       "      <td>0</td>\n",
       "    </tr>\n",
       "  </tbody>\n",
       "</table>\n",
       "<p>2600 rows × 3 columns</p>\n",
       "</div>"
      ],
      "text/plain": [
       "                                                 Amazon  \\\n",
       "0       clickart 950 000 - premier image pack (dvd-rom)   \n",
       "1      noah's ark activity center (jewel case ages 3-8)   \n",
       "2     peachtree by sage premium accounting for nonpr...   \n",
       "3                               singing coach unlimited   \n",
       "4     adobe after effects professional 6.5 upgrade f...   \n",
       "...                                                 ...   \n",
       "2595                                             shapes   \n",
       "2596              dragon naturally speaking standard v9   \n",
       "2597                                       mediarecover   \n",
       "2598                                       mediarecover   \n",
       "2599                                photo explosion 3.0   \n",
       "\n",
       "                                                 Google  Match  \n",
       "0        clickart 950000 - premier image pack (dvd-rom)      1  \n",
       "1     the beginners bible: noah's ark activity cente...      1  \n",
       "2     sage (ptree) - vernfp2007rt - premium accounti...      1  \n",
       "3     singing coach unlimited - electronic learning ...      1  \n",
       "4     adobe software 22070152 after effects 6.5 pbupgrd      1  \n",
       "...                                                 ...    ...  \n",
       "2595        aspyr media inc enemy territory: quake wars      0  \n",
       "2596                               print shop deluxe 21      0  \n",
       "2597  sony media software acid pro 5 music productio...      0  \n",
       "2598                      instant immersion italian 2.0      0  \n",
       "2599  punch software 85100 - punch!master landscape ...      0  \n",
       "\n",
       "[2600 rows x 3 columns]"
      ]
     },
     "execution_count": 3,
     "metadata": {},
     "output_type": "execute_result"
    }
   ],
   "source": [
    "df = pd.read_csv('Amzon_Google.csv', sep=';', encoding='latin-1')\n",
    "df"
   ]
  },
  {
   "cell_type": "code",
   "execution_count": 4,
   "id": "7fb1a074",
   "metadata": {},
   "outputs": [
    {
     "data": {
      "text/plain": [
       "1    1300\n",
       "0    1300\n",
       "Name: Match, dtype: int64"
      ]
     },
     "execution_count": 4,
     "metadata": {},
     "output_type": "execute_result"
    }
   ],
   "source": [
    "df['Match'].value_counts()"
   ]
  },
  {
   "cell_type": "code",
   "execution_count": 5,
   "id": "714c2261",
   "metadata": {},
   "outputs": [
    {
     "data": {
      "image/png": "[encoded data removed]",
      "text/plain": [
       "<Figure size 640x480 with 1 Axes>"
      ]
     },
     "metadata": {},
     "output_type": "display_data"
    },
    {
     "name": "stdout",
     "output_type": "stream",
     "text": [
      "Amazon descriptions lengths average: 34.12\n",
      "Google descriptions lengths average: 52.451153846153844\n"
     ]
    }
   ],
   "source": [
    "amazon_lens = []\n",
    "google_lens = []\n",
    "\n",
    "for i, row in df.iterrows():\n",
    "    amazon_lens.append(len(row['Amazon']))\n",
    "    google_lens.append(len(row['Google']))\n",
    "    \n",
    "plt.hist(amazon_lens, alpha=0.5, label='Amazon descriptions lengths')\n",
    "plt.hist(google_lens, alpha=0.5, label='Google descriptions lengths')\n",
    "plt.legend(loc='upper right')\n",
    "plt.show()\n",
    "\n",
    "print('Amazon descriptions lengths average:', np.mean(amazon_lens))\n",
    "print('Google descriptions lengths average:', np.mean(google_lens))\n"
   ]
  },
  {
   "cell_type": "markdown",
   "id": "47dba035",
   "metadata": {},
   "source": [
    "# 2. Distance calculation"
   ]
  },
  {
   "cell_type": "code",
   "execution_count": 6,
   "id": "2e90b5e5",
   "metadata": {},
   "outputs": [],
   "source": [
    "# We will store computed values in the new table\n",
    "df_new = df[['Amazon', 'Google']].copy()\n",
    "\n",
    "# Tokenizer instance for word-level distances/similarities only\n",
    "tokenizer = Tokenizer(word_delimiter=' ')\n"
   ]
  },
  {
   "cell_type": "markdown",
   "id": "86c24aba",
   "metadata": {},
   "source": [
    "### a) Levenshtain distance (character-level, normalized)"
   ]
  },
  {
   "cell_type": "code",
   "execution_count": 7,
   "id": "3183e85e",
   "metadata": {},
   "outputs": [],
   "source": [
    "edit_distance = LevenshteinEditDistance()\n",
    "df_new['Levenshtein distance (normalized)'] = df_new.apply(lambda x: edit_distance.compute(x['Amazon'], x['Google']) \\\n",
    "                                                    / max(len(x['Amazon']), len(x['Google'])), axis=1)\n"
   ]
  },
  {
   "cell_type": "markdown",
   "id": "fae66bdb",
   "metadata": {},
   "source": [
    "### b) Jaccard distance (word-level)"
   ]
  },
  {
   "cell_type": "code",
   "execution_count": 8,
   "id": "4b7826fd",
   "metadata": {},
   "outputs": [],
   "source": [
    "jaccard_distance = JaccardIndex()\n",
    "df_new['Jaccard distance'] = df_new.apply(lambda x: jaccard_distance.compute(tokenizer.tokenize(x['Amazon']), \\\n",
    "                                                                             tokenizer.tokenize(x['Google'])), axis=1)\n"
   ]
  },
  {
   "cell_type": "markdown",
   "id": "0a56648c",
   "metadata": {},
   "source": [
    "### c) Jaro distance (character-level)\n",
    "$$\n",
    "distance = 1 - similarity\n",
    "$$"
   ]
  },
  {
   "cell_type": "code",
   "execution_count": 9,
   "id": "bd8fbfe7",
   "metadata": {},
   "outputs": [],
   "source": [
    "jaro_similarity = JaroSimilarity()\n",
    "df_new['Jaro distance (char-level)'] = df_new.apply(lambda x: 1 - jaro_similarity.compute(x['Amazon'], x['Google']), axis=1)\n"
   ]
  },
  {
   "cell_type": "markdown",
   "id": "5fd161e3",
   "metadata": {},
   "source": [
    "### d) Jaro distance (word-level)"
   ]
  },
  {
   "cell_type": "code",
   "execution_count": 10,
   "id": "1cdda9bd",
   "metadata": {},
   "outputs": [],
   "source": [
    "df_new['Jaro distance (word-level)'] = df_new.apply(lambda x: 1 - jaro_similarity.compute(tokenizer.tokenize(x['Amazon']),\\\n",
    "                                                                                          tokenizer.tokenize(x['Google'])), axis=1)\n",
    "\n",
    "# Appending initial Match column\n",
    "df_new['Match'] = df['Match']"
   ]
  },
  {
   "cell_type": "code",
   "execution_count": 11,
   "id": "f0c85c05",
   "metadata": {},
   "outputs": [
    {
     "data": {
      "text/html": [
       "<div>\n",
       "<style scoped>\n",
       "    .dataframe tbody tr th:only-of-type {\n",
       "        vertical-align: middle;\n",
       "    }\n",
       "\n",
       "    .dataframe tbody tr th {\n",
       "        vertical-align: top;\n",
       "    }\n",
       "\n",
       "    .dataframe thead th {\n",
       "        text-align: right;\n",
       "    }\n",
       "</style>\n",
       "<table border=\"1\" class=\"dataframe\">\n",
       "  <thead>\n",
       "    <tr style=\"text-align: right;\">\n",
       "      <th></th>\n",
       "      <th>Amazon</th>\n",
       "      <th>Google</th>\n",
       "      <th>Levenshtein distance (normalized)</th>\n",
       "      <th>Jaccard distance</th>\n",
       "      <th>Jaro distance (char-level)</th>\n",
       "      <th>Jaro distance (word-level)</th>\n",
       "      <th>Match</th>\n",
       "    </tr>\n",
       "  </thead>\n",
       "  <tbody>\n",
       "    <tr>\n",
       "      <th>0</th>\n",
       "      <td>clickart 950 000 - premier image pack (dvd-rom)</td>\n",
       "      <td>clickart 950000 - premier image pack (dvd-rom)</td>\n",
       "      <td>0.021277</td>\n",
       "      <td>0.333333</td>\n",
       "      <td>0.086802</td>\n",
       "      <td>0.130952</td>\n",
       "      <td>1</td>\n",
       "    </tr>\n",
       "    <tr>\n",
       "      <th>1</th>\n",
       "      <td>noah's ark activity center (jewel case ages 3-8)</td>\n",
       "      <td>the beginners bible: noah's ark activity cente...</td>\n",
       "      <td>0.640625</td>\n",
       "      <td>0.666667</td>\n",
       "      <td>0.362756</td>\n",
       "      <td>0.430556</td>\n",
       "      <td>1</td>\n",
       "    </tr>\n",
       "    <tr>\n",
       "      <th>2</th>\n",
       "      <td>peachtree by sage premium accounting for nonpr...</td>\n",
       "      <td>sage (ptree) - vernfp2007rt - premium accounti...</td>\n",
       "      <td>0.338235</td>\n",
       "      <td>0.454545</td>\n",
       "      <td>0.269958</td>\n",
       "      <td>0.216667</td>\n",
       "      <td>1</td>\n",
       "    </tr>\n",
       "    <tr>\n",
       "      <th>3</th>\n",
       "      <td>singing coach unlimited</td>\n",
       "      <td>singing coach unlimited - electronic learning ...</td>\n",
       "      <td>0.574074</td>\n",
       "      <td>0.571429</td>\n",
       "      <td>0.191358</td>\n",
       "      <td>0.190476</td>\n",
       "      <td>1</td>\n",
       "    </tr>\n",
       "    <tr>\n",
       "      <th>4</th>\n",
       "      <td>adobe after effects professional 6.5 upgrade f...</td>\n",
       "      <td>adobe software 22070152 after effects 6.5 pbupgrd</td>\n",
       "      <td>0.783784</td>\n",
       "      <td>0.666667</td>\n",
       "      <td>0.353890</td>\n",
       "      <td>0.342857</td>\n",
       "      <td>1</td>\n",
       "    </tr>\n",
       "  </tbody>\n",
       "</table>\n",
       "</div>"
      ],
      "text/plain": [
       "                                              Amazon  \\\n",
       "0    clickart 950 000 - premier image pack (dvd-rom)   \n",
       "1   noah's ark activity center (jewel case ages 3-8)   \n",
       "2  peachtree by sage premium accounting for nonpr...   \n",
       "3                            singing coach unlimited   \n",
       "4  adobe after effects professional 6.5 upgrade f...   \n",
       "\n",
       "                                              Google  \\\n",
       "0     clickart 950000 - premier image pack (dvd-rom)   \n",
       "1  the beginners bible: noah's ark activity cente...   \n",
       "2  sage (ptree) - vernfp2007rt - premium accounti...   \n",
       "3  singing coach unlimited - electronic learning ...   \n",
       "4  adobe software 22070152 after effects 6.5 pbupgrd   \n",
       "\n",
       "   Levenshtein distance (normalized)  Jaccard distance  \\\n",
       "0                           0.021277          0.333333   \n",
       "1                           0.640625          0.666667   \n",
       "2                           0.338235          0.454545   \n",
       "3                           0.574074          0.571429   \n",
       "4                           0.783784          0.666667   \n",
       "\n",
       "   Jaro distance (char-level)  Jaro distance (word-level)  Match  \n",
       "0                    0.086802                    0.130952      1  \n",
       "1                    0.362756                    0.430556      1  \n",
       "2                    0.269958                    0.216667      1  \n",
       "3                    0.191358                    0.190476      1  \n",
       "4                    0.353890                    0.342857      1  "
      ]
     },
     "execution_count": 11,
     "metadata": {},
     "output_type": "execute_result"
    }
   ],
   "source": [
    "df_new.head()"
   ]
  },
  {
   "cell_type": "markdown",
   "id": "1b811fc4",
   "metadata": {},
   "source": [
    "# 3. ROCs visualization"
   ]
  },
  {
   "cell_type": "code",
   "execution_count": 12,
   "id": "835c76d0",
   "metadata": {},
   "outputs": [
    {
     "data": {
      "image/png": "[encoded data removed]",
      "text/plain": [
       "<Figure size 600x600 with 1 Axes>"
      ]
     },
     "metadata": {},
     "output_type": "display_data"
    },
    {
     "name": "stdout",
     "output_type": "stream",
     "text": [
      "Levenshtein ROC AUC score:\t 0.9396633136094674\n",
      "Jaccard ROC AUC score:\t\t 0.9934816568047338\n",
      "Jaro (char-level) ROC AUC score: 0.9130097633136095\n",
      "Jaro (word-level) ROC AUC score: 0.9350946745562131\n"
     ]
    }
   ],
   "source": [
    "y_true = df_new['Match'].values\n",
    "\n",
    "y_pred_lev = df_new['Levenshtein distance (normalized)'].values\n",
    "y_pred_jac = df_new['Jaccard distance'].values\n",
    "y_pred_jar_cl = df_new['Jaro distance (char-level)'].values\n",
    "y_pred_jar_wl = df_new['Jaro distance (word-level)'].values\n",
    "\n",
    "# ROC values\n",
    "fpr_lev, tpr_lev, _ = roc_curve(y_true, y_pred_lev, pos_label=0)\n",
    "fpr_jac, tpr_jac, _ = roc_curve(y_true, y_pred_jac, pos_label=0)\n",
    "fpr_jar_cl, tpr_jar_cl, _ = roc_curve(y_true, y_pred_jar_cl, pos_label=0)\n",
    "fpr_jar_wl, tpr_jar_wl, _ = roc_curve(y_true, y_pred_jar_wl, pos_label=0)\n",
    "\n",
    "\n",
    "# AUC score\n",
    "# as roc_auc_score function does not have pos_label parameter, we will invert the y_true array instead\n",
    "# distance~0 <==> match=1 (mostly)\n",
    "auc_lev = roc_auc_score(np.logical_not(y_true).astype(int), y_pred_lev)\n",
    "auc_jac = roc_auc_score(np.logical_not(y_true).astype(int), y_pred_jac)\n",
    "auc_jar_cl = roc_auc_score(np.logical_not(y_true).astype(int), y_pred_jar_cl)\n",
    "auc_jar_wl = roc_auc_score(np.logical_not(y_true).astype(int), y_pred_jar_wl)\n",
    "\n",
    "\n",
    "############ Plotting ############\n",
    "\n",
    "plt.figure(figsize=(6,6))\n",
    "\n",
    "plt.plot(fpr_lev, tpr_lev, label=f'Levenshtein (char-level): AUC={auc_lev:.3f}')\n",
    "plt.plot(fpr_jac, tpr_jac, label=f'Jaccard (word-level): AUC={auc_jac:.3f}')\n",
    "plt.plot(fpr_jar_cl, tpr_jar_cl, label=f'Jaro (char-level): AUC={auc_jar_cl:.3f}')\n",
    "plt.plot(fpr_jar_wl, tpr_jar_wl, label=f'Jaro (word-level): AUC={auc_jar_wl:.3f}')\n",
    "plt.plot(fpr_lev, fpr_lev, color='0.7', linestyle='--')\n",
    "\n",
    "plt.ylabel('True Positive Rate')\n",
    "plt.xlabel('False Positive Rate')\n",
    "\n",
    "legend = plt.legend()\n",
    "max_shift = max([t.get_window_extent().width for t in legend.get_texts()])\n",
    "for t in legend.get_texts():\n",
    "    t.set_ha('right')  # ha is alias for horizontalalignment\n",
    "    temp_shift = max_shift - t.get_window_extent().width\n",
    "    t.set_position((temp_shift, 0))    \n",
    "plt.show()\n",
    "\n",
    "print('Levenshtein ROC AUC score:\\t', auc_lev)\n",
    "print('Jaccard ROC AUC score:\\t\\t', auc_jac)\n",
    "print('Jaro (char-level) ROC AUC score:', auc_jar_cl)\n",
    "print('Jaro (word-level) ROC AUC score:', auc_jar_wl)\n",
    "\n"
   ]
  },
  {
   "cell_type": "markdown",
   "id": "703fca8b",
   "metadata": {},
   "source": [
    "# 6. Results\n",
    "\n",
    "Descibed in the report."
   ]
  },
  {
   "cell_type": "markdown",
   "id": "5d8806f7",
   "metadata": {},
   "source": [
    "# 7. Improving results with string pre-processing"
   ]
  },
  {
   "cell_type": "markdown",
   "id": "e95f01ba",
   "metadata": {},
   "source": [
    "### a) Suggestion 1\n",
    "\n",
    "String pre-processing workflow (in order):\n",
    "* removing non-alphanumeric characters\n",
    "* removing whitespacing between numbers\n",
    "* lemmatization of words\n",
    "* removing duplicate words\n",
    "* ordering words in alphabetical order, putting numbers at the beginning\n"
   ]
  },
  {
   "cell_type": "code",
   "execution_count": 13,
   "id": "5d50365d",
   "metadata": {},
   "outputs": [],
   "source": [
    "def remove_duplicates(s):\n",
    "    s = s.split(\" \")\n",
    "    UniqueWords = Counter(s)\n",
    "    res = \" \".join(UniqueWords.keys())\n",
    "    return res\n",
    "\n",
    "def lemmatize_str(s):\n",
    "    nlp_str = nlp(s)\n",
    "    res = ''\n",
    "    for token in nlp_str:\n",
    "        res += token.lemma_ + ' '\n",
    "    res = re.sub(' +', ' ', res)\n",
    "    return res.strip()\n",
    "\n",
    "def order_string_by_alphabet(s):\n",
    "    words = [word for word in s.split()]\n",
    "    words.sort()\n",
    "    res = ' '.join(map(str, words))\n",
    "    return res\n",
    "\n",
    "\n",
    "nlp = spacy.load('en_core_web_sm')  # for lemmatization\n"
   ]
  },
  {
   "cell_type": "code",
   "execution_count": 14,
   "id": "cc630d7e",
   "metadata": {},
   "outputs": [
    {
     "name": "stdout",
     "output_type": "stream",
     "text": [
      "Non-alphanumeric words are removed\n",
      "Whitespaces within/between numbers are removed\n",
      "Words are lemmatized\n",
      "Duplicate words are removed\n",
      "Words are sorted\n"
     ]
    }
   ],
   "source": [
    "df_new = df[['Amazon', 'Google']].copy()\n",
    "\n",
    "# 1. removing non-alphanumeric characters\n",
    "df_new['Amazon'] = df_new['Amazon'].str.replace('\\W+', ' ', regex=True)\n",
    "df_new['Google'] = df_new['Google'].str.replace('\\W+', ' ', regex=True)\n",
    "print('Non-alphanumeric words are removed')\n",
    "\n",
    "# 2. removing whitespacing within/between numbers (950 000 -> 950000)\n",
    "df_new['Amazon'] = df_new['Amazon'].str.replace(r'(\\d)\\s+(\\d)', r'\\1\\2', regex=True)\n",
    "df_new['Google'] = df_new['Google'].str.replace(r'(\\d)\\s+(\\d)', r'\\1\\2', regex=True)\n",
    "print('Whitespaces within/between numbers are removed')\n",
    "\n",
    "# 3. string lemmatization (takes several seconds)\n",
    "df_new['Amazon'] = df_new['Amazon'].apply(lemmatize_str)\n",
    "df_new['Google'] = df_new['Google'].apply(lemmatize_str)\n",
    "print('Words are lemmatized')\n",
    "\n",
    "# 4. removing duplicate words in a string\n",
    "df_new['Amazon'] = df_new['Amazon'].apply(remove_duplicates)\n",
    "df_new['Google'] = df_new['Google'].apply(remove_duplicates)\n",
    "print('Duplicate words are removed')\n",
    "\n",
    "# 5. ordering words by alphabetical order (numbers are put at the beginning of strings)\n",
    "df_new['Amazon'] = df_new['Amazon'].apply(order_string_by_alphabet)\n",
    "df_new['Google'] = df_new['Google'].apply(order_string_by_alphabet)\n",
    "print('Words are sorted')\n"
   ]
  },
  {
   "cell_type": "code",
   "execution_count": 15,
   "id": "a6b5e3e0",
   "metadata": {},
   "outputs": [],
   "source": [
    "edit_distance = LevenshteinEditDistance()\n",
    "df_new['Levenshtein distance (normalized)'] = df_new.apply(lambda x: edit_distance.compute(x['Amazon'], x['Google']) \\\n",
    "                                                    / max(len(x['Amazon']), len(x['Google'])), axis=1)\n",
    "\n",
    "jaccard_distance = JaccardIndex()\n",
    "df_new['Jaccard distance'] = df_new.apply(lambda x: jaccard_distance.compute(tokenizer.tokenize(x['Amazon']), \\\n",
    "                                                                             tokenizer.tokenize(x['Google'])), axis=1)\n",
    "\n",
    "jaro_similarity = JaroSimilarity()\n",
    "df_new['Jaro distance (char-level)'] = df_new.apply(lambda x: 1 - jaro_similarity.compute(x['Amazon'], x['Google']), axis=1)\n",
    "\n",
    "df_new['Jaro distance (word-level)'] = df_new.apply(lambda x: 1 - jaro_similarity.compute(tokenizer.tokenize(x['Amazon']),\\\n",
    "                                                                                          tokenizer.tokenize(x['Google'])), axis=1)\n",
    "# Appending initial Match column\n",
    "df_new['Match'] = df['Match']\n"
   ]
  },
  {
   "cell_type": "code",
   "execution_count": 16,
   "id": "1ebaa837",
   "metadata": {},
   "outputs": [
    {
     "data": {
      "text/html": [
       "<div>\n",
       "<style scoped>\n",
       "    .dataframe tbody tr th:only-of-type {\n",
       "        vertical-align: middle;\n",
       "    }\n",
       "\n",
       "    .dataframe tbody tr th {\n",
       "        vertical-align: top;\n",
       "    }\n",
       "\n",
       "    .dataframe thead th {\n",
       "        text-align: right;\n",
       "    }\n",
       "</style>\n",
       "<table border=\"1\" class=\"dataframe\">\n",
       "  <thead>\n",
       "    <tr style=\"text-align: right;\">\n",
       "      <th></th>\n",
       "      <th>Amazon</th>\n",
       "      <th>Google</th>\n",
       "      <th>Levenshtein distance (normalized)</th>\n",
       "      <th>Jaccard distance</th>\n",
       "      <th>Jaro distance (char-level)</th>\n",
       "      <th>Jaro distance (word-level)</th>\n",
       "      <th>Match</th>\n",
       "    </tr>\n",
       "  </thead>\n",
       "  <tbody>\n",
       "    <tr>\n",
       "      <th>0</th>\n",
       "      <td>950000 clickart dvd image pack premier rom</td>\n",
       "      <td>950000 clickart dvd image pack premier rom</td>\n",
       "      <td>0.000000</td>\n",
       "      <td>0.000000</td>\n",
       "      <td>0.000000</td>\n",
       "      <td>0.000000</td>\n",
       "      <td>1</td>\n",
       "    </tr>\n",
       "    <tr>\n",
       "      <th>1</th>\n",
       "      <td>38 activity age ark case center jewel noah s</td>\n",
       "      <td>activity ark beginner bible center noah s the</td>\n",
       "      <td>0.577778</td>\n",
       "      <td>0.583333</td>\n",
       "      <td>0.294637</td>\n",
       "      <td>0.273148</td>\n",
       "      <td>1</td>\n",
       "    </tr>\n",
       "    <tr>\n",
       "      <th>2</th>\n",
       "      <td>2007 account by for nonprofit peachtree premiu...</td>\n",
       "      <td>2007 account for nonprofit premium ptree sage ...</td>\n",
       "      <td>0.448276</td>\n",
       "      <td>0.400000</td>\n",
       "      <td>0.201653</td>\n",
       "      <td>0.166667</td>\n",
       "      <td>1</td>\n",
       "    </tr>\n",
       "    <tr>\n",
       "      <th>3</th>\n",
       "      <td>coach singe unlimited</td>\n",
       "      <td>coach electronic learning product singe unlimited</td>\n",
       "      <td>0.571429</td>\n",
       "      <td>0.500000</td>\n",
       "      <td>0.341091</td>\n",
       "      <td>0.500000</td>\n",
       "      <td>1</td>\n",
       "    </tr>\n",
       "    <tr>\n",
       "      <th>4</th>\n",
       "      <td>65 adobe after effect from professional standa...</td>\n",
       "      <td>22070152 65 adobe after effect pbupgrd software</td>\n",
       "      <td>0.661017</td>\n",
       "      <td>0.666667</td>\n",
       "      <td>0.348369</td>\n",
       "      <td>0.328042</td>\n",
       "      <td>1</td>\n",
       "    </tr>\n",
       "  </tbody>\n",
       "</table>\n",
       "</div>"
      ],
      "text/plain": [
       "                                              Amazon  \\\n",
       "0         950000 clickart dvd image pack premier rom   \n",
       "1       38 activity age ark case center jewel noah s   \n",
       "2  2007 account by for nonprofit peachtree premiu...   \n",
       "3                              coach singe unlimited   \n",
       "4  65 adobe after effect from professional standa...   \n",
       "\n",
       "                                              Google  \\\n",
       "0         950000 clickart dvd image pack premier rom   \n",
       "1      activity ark beginner bible center noah s the   \n",
       "2  2007 account for nonprofit premium ptree sage ...   \n",
       "3  coach electronic learning product singe unlimited   \n",
       "4    22070152 65 adobe after effect pbupgrd software   \n",
       "\n",
       "   Levenshtein distance (normalized)  Jaccard distance  \\\n",
       "0                           0.000000          0.000000   \n",
       "1                           0.577778          0.583333   \n",
       "2                           0.448276          0.400000   \n",
       "3                           0.571429          0.500000   \n",
       "4                           0.661017          0.666667   \n",
       "\n",
       "   Jaro distance (char-level)  Jaro distance (word-level)  Match  \n",
       "0                    0.000000                    0.000000      1  \n",
       "1                    0.294637                    0.273148      1  \n",
       "2                    0.201653                    0.166667      1  \n",
       "3                    0.341091                    0.500000      1  \n",
       "4                    0.348369                    0.328042      1  "
      ]
     },
     "execution_count": 16,
     "metadata": {},
     "output_type": "execute_result"
    }
   ],
   "source": [
    "df_new.head()"
   ]
  },
  {
   "cell_type": "code",
   "execution_count": 17,
   "id": "f8ad66b4",
   "metadata": {},
   "outputs": [
    {
     "name": "stdout",
     "output_type": "stream",
     "text": [
      "Levenshtein ROC AUC score:\t 0.9614846153846154\n",
      "Jaccard ROC AUC score:\t\t 0.9941331360946746\n",
      "Jaro (char-level) ROC AUC score: 0.9351053254437871\n",
      "Jaro (word-level) ROC AUC score: 0.9716366863905326\n"
     ]
    },
    {
     "data": {
      "image/png": "[encoded data removed]",
      "text/plain": [
       "<Figure size 600x600 with 1 Axes>"
      ]
     },
     "metadata": {},
     "output_type": "display_data"
    }
   ],
   "source": [
    "y_true = df_new['Match'].values\n",
    "\n",
    "y_pred_lev = df_new['Levenshtein distance (normalized)'].values\n",
    "y_pred_jac = df_new['Jaccard distance'].values\n",
    "y_pred_jar_cl = df_new['Jaro distance (char-level)'].values\n",
    "y_pred_jar_wl = df_new['Jaro distance (word-level)'].values\n",
    "\n",
    "# ROC values\n",
    "fpr_lev, tpr_lev, _ = roc_curve(y_true, y_pred_lev, pos_label=0)\n",
    "fpr_jac, tpr_jac, _ = roc_curve(y_true, y_pred_jac, pos_label=0)\n",
    "fpr_jar_cl, tpr_jar_cl, _ = roc_curve(y_true, y_pred_jar_cl, pos_label=0)\n",
    "fpr_jar_wl, tpr_jar_wl, _ = roc_curve(y_true, y_pred_jar_wl, pos_label=0)\n",
    "\n",
    "\n",
    "# AUC score\n",
    "auc_lev = roc_auc_score(np.logical_not(y_true).astype(int), y_pred_lev)\n",
    "auc_jac = roc_auc_score(np.logical_not(y_true).astype(int), y_pred_jac)\n",
    "auc_jar_cl = roc_auc_score(np.logical_not(y_true).astype(int), y_pred_jar_cl)\n",
    "auc_jar_wl = roc_auc_score(np.logical_not(y_true).astype(int), y_pred_jar_wl)\n",
    "\n",
    "\n",
    "############ Plotting ############\n",
    "\n",
    "plt.figure(figsize=(6,6))\n",
    "\n",
    "plt.plot(fpr_lev, tpr_lev, label=f'Levenshtein (char-level): AUC={auc_lev:.3f}')\n",
    "plt.plot(fpr_jac, tpr_jac, label=f'Jaccard (word-level): AUC={auc_jac:.3f}')\n",
    "plt.plot(fpr_jar_cl, tpr_jar_cl, label=f'Jaro (char-level): AUC={auc_jar_cl:.3f}')\n",
    "plt.plot(fpr_jar_wl, tpr_jar_wl, label=f'Jaro (word-level): AUC={auc_jar_wl:.3f}')\n",
    "plt.plot(fpr_lev, fpr_lev, color='0.7', linestyle='--')\n",
    "\n",
    "plt.ylabel('True Positive Rate')\n",
    "plt.xlabel('False Positive Rate')\n",
    "\n",
    "legend = plt.legend()\n",
    "max_shift = max([t.get_window_extent().width for t in legend.get_texts()])\n",
    "for t in legend.get_texts():\n",
    "    t.set_ha('right')  # ha is alias for horizontalalignment\n",
    "    temp_shift = max_shift - t.get_window_extent().width\n",
    "    t.set_position((temp_shift, 0))    \n",
    "\n",
    "print('Levenshtein ROC AUC score:\\t', auc_lev)\n",
    "print('Jaccard ROC AUC score:\\t\\t', auc_jac)\n",
    "print('Jaro (char-level) ROC AUC score:', auc_jar_cl)\n",
    "print('Jaro (word-level) ROC AUC score:', auc_jar_wl)\n",
    "\n"
   ]
  },
  {
   "cell_type": "markdown",
   "id": "d54b8a2e",
   "metadata": {},
   "source": [
    "### b) Suggestion 2: Improving <ins>word-level Jaro distance</ins> results using <span style=\"color:purple\">WordNet</span>."
   ]
  },
  {
   "cell_type": "code",
   "execution_count": 18,
   "id": "9c72b402",
   "metadata": {},
   "outputs": [
    {
     "name": "stderr",
     "output_type": "stream",
     "text": [
      "[nltk_data] Downloading package wordnet to /home/batyr/nltk_data...\n",
      "[nltk_data]   Package wordnet is already up-to-date!\n"
     ]
    }
   ],
   "source": [
    "nltk.download('wordnet')\n",
    "\n",
    "def add_syns(word):\n",
    "    \"\"\" Forming a string of synonyms (synsets) from a given word \"\"\"\n",
    "    synonyms = wordnet.synsets(word)\n",
    "    synonyms = set(chain.from_iterable([word.lemma_names() for word in synonyms]))\n",
    "    appended_text = ''\n",
    "    for syn in synonyms:\n",
    "        appended_text = appended_text + ' ' + syn + ' '\n",
    "    return appended_text\n",
    "\n",
    "def add_syns_str(s):\n",
    "    \"\"\" Forming a new string, consisting of synsets of the initial words \"\"\"\n",
    "    res = s\n",
    "    for word in s.split(' '):\n",
    "        res = res + add_syns(word) + ' '\n",
    "    return res.lower().strip()\n"
   ]
  },
  {
   "cell_type": "markdown",
   "id": "aeb2aab4",
   "metadata": {},
   "source": [
    "Besides addition of synsets, we leave only one pre-processing step from all steps in the first variant, as it showed best results (from multiple experiments)."
   ]
  },
  {
   "cell_type": "code",
   "execution_count": 19,
   "id": "e1f54432",
   "metadata": {},
   "outputs": [
    {
     "name": "stdout",
     "output_type": "stream",
     "text": [
      "Wordnet synonyms are added\n",
      "Non-alphanumeric words are removed\n"
     ]
    }
   ],
   "source": [
    "df_new = df[['Amazon', 'Google']].copy()\n",
    "\n",
    "# 1. populating string with wordnet synonyms for each word\n",
    "df_new['Amazon'] = df_new['Amazon'].apply(add_syns_str)\n",
    "df_new['Google'] = df_new['Google'].apply(add_syns_str)\n",
    "print('Wordnet synonyms are added')\n",
    "\n",
    "# 2. removing non-alphanumeric characters\n",
    "df_new['Amazon'] = df_new['Amazon'].str.replace('\\W+', ' ', regex=True)\n",
    "df_new['Google'] = df_new['Google'].str.replace('\\W+', ' ', regex=True)\n",
    "print('Non-alphanumeric words are removed')\n"
   ]
  },
  {
   "cell_type": "markdown",
   "id": "cb7d5ca3",
   "metadata": {},
   "source": [
    "After the new operation, *character-level* distance results are much worse and their calculation demands some time for the new populated strings."
   ]
  },
  {
   "cell_type": "code",
   "execution_count": 20,
   "id": "d6862ea5",
   "metadata": {},
   "outputs": [],
   "source": [
    "# Uncomment\n",
    "# edit_distance = LevenshteinEditDistance()\n",
    "# df_new['Levenshtein distance (normalized)'] = df_new.apply(lambda x: edit_distance.compute(x['Amazon'], x['Google']) \\\n",
    "#                                                     / max(len(x['Amazon']), len(x['Google'])), axis=1)\n",
    "\n",
    "jaccard_distance = JaccardIndex()\n",
    "df_new['Jaccard distance'] = df_new.apply(lambda x: jaccard_distance.compute(tokenizer.tokenize(x['Amazon']), \\\n",
    "                                                                             tokenizer.tokenize(x['Google'])), axis=1)\n",
    "\n",
    "# jaro_similarity = JaroSimilarity()\n",
    "# df_new['Jaro distance (char-level)'] = df_new.apply(lambda x: 1 - jaro_similarity.compute(x['Amazon'], x['Google']), axis=1)\n",
    "\n",
    "df_new['Jaro distance (word-level)'] = df_new.apply(lambda x: 1 - jaro_similarity.compute(tokenizer.tokenize(x['Amazon']),\\\n",
    "                                                                                          tokenizer.tokenize(x['Google'])), axis=1)\n",
    "# Appending initial Match column\n",
    "df_new['Match'] = df['Match']\n"
   ]
  },
  {
   "cell_type": "code",
   "execution_count": 21,
   "id": "19849e72",
   "metadata": {},
   "outputs": [
    {
     "data": {
      "text/html": [
       "<div>\n",
       "<style scoped>\n",
       "    .dataframe tbody tr th:only-of-type {\n",
       "        vertical-align: middle;\n",
       "    }\n",
       "\n",
       "    .dataframe tbody tr th {\n",
       "        vertical-align: top;\n",
       "    }\n",
       "\n",
       "    .dataframe thead th {\n",
       "        text-align: right;\n",
       "    }\n",
       "</style>\n",
       "<table border=\"1\" class=\"dataframe\">\n",
       "  <thead>\n",
       "    <tr style=\"text-align: right;\">\n",
       "      <th></th>\n",
       "      <th>Amazon</th>\n",
       "      <th>Google</th>\n",
       "      <th>Jaccard distance</th>\n",
       "      <th>Jaro distance (word-level)</th>\n",
       "      <th>Match</th>\n",
       "    </tr>\n",
       "  </thead>\n",
       "  <tbody>\n",
       "    <tr>\n",
       "      <th>0</th>\n",
       "      <td>clickart 950 000 premier image pack dvd rom pr...</td>\n",
       "      <td>clickart 950000 premier image pack dvd rom pre...</td>\n",
       "      <td>0.047619</td>\n",
       "      <td>0.015229</td>\n",
       "      <td>1</td>\n",
       "    </tr>\n",
       "    <tr>\n",
       "      <th>1</th>\n",
       "      <td>noah s ark activity center jewel case ages 3 8...</td>\n",
       "      <td>the beginners bible noah s ark activity center...</td>\n",
       "      <td>0.517544</td>\n",
       "      <td>0.296902</td>\n",
       "      <td>1</td>\n",
       "    </tr>\n",
       "    <tr>\n",
       "      <th>2</th>\n",
       "      <td>peachtree by sage premium accounting for nonpr...</td>\n",
       "      <td>sage ptree vernfp2007rt premium accounting for...</td>\n",
       "      <td>0.212121</td>\n",
       "      <td>0.074256</td>\n",
       "      <td>1</td>\n",
       "    </tr>\n",
       "    <tr>\n",
       "      <th>3</th>\n",
       "      <td>singing coach unlimited peach singe blab_out t...</td>\n",
       "      <td>singing coach unlimited electronic learning pr...</td>\n",
       "      <td>0.459770</td>\n",
       "      <td>0.148936</td>\n",
       "      <td>1</td>\n",
       "    </tr>\n",
       "    <tr>\n",
       "      <th>4</th>\n",
       "      <td>adobe after effects professional 6 5 upgrade f...</td>\n",
       "      <td>adobe software 22070152 after effects 6 5 pbup...</td>\n",
       "      <td>0.550000</td>\n",
       "      <td>0.251526</td>\n",
       "      <td>1</td>\n",
       "    </tr>\n",
       "  </tbody>\n",
       "</table>\n",
       "</div>"
      ],
      "text/plain": [
       "                                              Amazon  \\\n",
       "0  clickart 950 000 premier image pack dvd rom pr...   \n",
       "1  noah s ark activity center jewel case ages 3 8...   \n",
       "2  peachtree by sage premium accounting for nonpr...   \n",
       "3  singing coach unlimited peach singe blab_out t...   \n",
       "4  adobe after effects professional 6 5 upgrade f...   \n",
       "\n",
       "                                              Google  Jaccard distance  \\\n",
       "0  clickart 950000 premier image pack dvd rom pre...          0.047619   \n",
       "1  the beginners bible noah s ark activity center...          0.517544   \n",
       "2  sage ptree vernfp2007rt premium accounting for...          0.212121   \n",
       "3  singing coach unlimited electronic learning pr...          0.459770   \n",
       "4  adobe software 22070152 after effects 6 5 pbup...          0.550000   \n",
       "\n",
       "   Jaro distance (word-level)  Match  \n",
       "0                    0.015229      1  \n",
       "1                    0.296902      1  \n",
       "2                    0.074256      1  \n",
       "3                    0.148936      1  \n",
       "4                    0.251526      1  "
      ]
     },
     "execution_count": 21,
     "metadata": {},
     "output_type": "execute_result"
    }
   ],
   "source": [
    "df_new.head()"
   ]
  },
  {
   "cell_type": "code",
   "execution_count": 22,
   "id": "4d5233b7",
   "metadata": {},
   "outputs": [
    {
     "name": "stdout",
     "output_type": "stream",
     "text": [
      "Jaccard ROC AUC score:\t\t 0.9916127218934911\n",
      "Jaro (word-level) ROC AUC score: 0.9900189349112425\n"
     ]
    },
    {
     "data": {
      "image/png": "[encoded data removed]",
      "text/plain": [
       "<Figure size 600x600 with 1 Axes>"
      ]
     },
     "metadata": {},
     "output_type": "display_data"
    }
   ],
   "source": [
    "y_true = df_new['Match'].values\n",
    "\n",
    "#y_pred_lev = df_new['Levenshtein distance (normalized)'].values\n",
    "y_pred_jac = df_new['Jaccard distance'].values\n",
    "#y_pred_jar_cl = df_new['Jaro distance (char-level)'].values\n",
    "y_pred_jar_wl = df_new['Jaro distance (word-level)'].values\n",
    "\n",
    "# ROC values\n",
    "#fpr_lev, tpr_lev, _ = roc_curve(y_true, y_pred_lev, pos_label=0)\n",
    "fpr_jac, tpr_jac, _ = roc_curve(y_true, y_pred_jac, pos_label=0)\n",
    "#fpr_jar_cl, tpr_jar_cl, _ = roc_curve(y_true, y_pred_jar_cl, pos_label=0)\n",
    "fpr_jar_wl, tpr_jar_wl, _ = roc_curve(y_true, y_pred_jar_wl, pos_label=0)\n",
    "\n",
    "\n",
    "# AUC score\n",
    "#auc_lev = roc_auc_score(np.logical_not(y_true).astype(int), y_pred_lev)\n",
    "auc_jac = roc_auc_score(np.logical_not(y_true).astype(int), y_pred_jac)\n",
    "#auc_jar_cl = roc_auc_score(np.logical_not(y_true).astype(int), y_pred_jar_cl)\n",
    "auc_jar_wl = roc_auc_score(np.logical_not(y_true).astype(int), y_pred_jar_wl)\n",
    "\n",
    "\n",
    "############ Plotting ############\n",
    "\n",
    "plt.figure(figsize=(6,6))\n",
    "\n",
    "#plt.plot(fpr_lev, tpr_lev, label=f'Levenshtein (char-level): AUC={auc_lev:.3f}')\n",
    "plt.plot(fpr_jac, tpr_jac, label=f'Jaccard (word-level): AUC={auc_jac:.3f}')\n",
    "#plt.plot(fpr_jar_cl, tpr_jar_cl, label=f'Jaro (char-level): AUC={auc_jar_cl:.3f}')\n",
    "plt.plot(fpr_jar_wl, tpr_jar_wl, label=f'Jaro (word-level): AUC={auc_jar_wl:.3f}')\n",
    "plt.plot(fpr_jar_wl, fpr_jar_wl, color='0.7', linestyle='--')\n",
    "\n",
    "plt.ylabel('True Positive Rate')\n",
    "plt.xlabel('False Positive Rate')\n",
    "\n",
    "legend = plt.legend()\n",
    "max_shift = max([t.get_window_extent().width for t in legend.get_texts()])\n",
    "for t in legend.get_texts():\n",
    "    t.set_ha('right')  # ha is alias for horizontalalignment\n",
    "    temp_shift = max_shift - t.get_window_extent().width\n",
    "    t.set_position((temp_shift, 0))    \n",
    "\n",
    "#print('Levenshtein ROC AUC score:\\t', auc_lev)\n",
    "print('Jaccard ROC AUC score:\\t\\t', auc_jac)\n",
    "#print('Jaro (char-level) ROC AUC score:', auc_jar_cl)\n",
    "print('Jaro (word-level) ROC AUC score:', auc_jar_wl)\n",
    "\n"
   ]
  },
  {
   "cell_type": "markdown",
   "id": "a98a59b0",
   "metadata": {},
   "source": [
    "# 6. Combinations of distances"
   ]
  },
  {
   "cell_type": "code",
   "execution_count": 23,
   "id": "ee49d4a5",
   "metadata": {},
   "outputs": [
    {
     "name": "stdout",
     "output_type": "stream",
     "text": [
      "Non-alphanumeric words are removed\n",
      "Whitespaces within/between numbers are removed\n",
      "Words are lemmatized\n",
      "Duplicate words are removed\n",
      "Words are sorted\n"
     ]
    }
   ],
   "source": [
    "df_new = df[['Amazon', 'Google']].copy()\n",
    "\n",
    "# 1. removing non-alphanumeric characters\n",
    "df_new['Amazon'] = df_new['Amazon'].str.replace('\\W+', ' ', regex=True)\n",
    "df_new['Google'] = df_new['Google'].str.replace('\\W+', ' ', regex=True)\n",
    "print('Non-alphanumeric words are removed')\n",
    "\n",
    "# 2. removing whitespacing within/between numbers (950 000 -> 950000)\n",
    "df_new['Amazon'] = df_new['Amazon'].str.replace(r'(\\d)\\s+(\\d)', r'\\1\\2', regex=True)\n",
    "df_new['Google'] = df_new['Google'].str.replace(r'(\\d)\\s+(\\d)', r'\\1\\2', regex=True)\n",
    "print('Whitespaces within/between numbers are removed')\n",
    "\n",
    "# 3. string lemmatization\n",
    "df_new['Amazon'] = df_new['Amazon'].apply(lemmatize_str)\n",
    "df_new['Google'] = df_new['Google'].apply(lemmatize_str)\n",
    "print('Words are lemmatized')\n",
    "\n",
    "# 4. removing duplicate words in a string\n",
    "df_new['Amazon'] = df_new['Amazon'].apply(remove_duplicates)\n",
    "df_new['Google'] = df_new['Google'].apply(remove_duplicates)\n",
    "print('Duplicate words are removed')\n",
    "\n",
    "# 5. ordering words by alphabetical order (numbers are put at the beginning of strings)\n",
    "df_new['Amazon'] = df_new['Amazon'].apply(order_string_by_alphabet)\n",
    "df_new['Google'] = df_new['Google'].apply(order_string_by_alphabet)\n",
    "print('Words are sorted')\n"
   ]
  },
  {
   "cell_type": "code",
   "execution_count": 24,
   "id": "2df2bbe8",
   "metadata": {},
   "outputs": [],
   "source": [
    "edit_distance = LevenshteinEditDistance()\n",
    "df_new['Levenshtein distance (normalized)'] = df_new.apply(lambda x: edit_distance.compute(x['Amazon'], x['Google']) \\\n",
    "                                                    / max(len(x['Amazon']), len(x['Google'])), axis=1)\n",
    "\n",
    "jaccard_distance = JaccardIndex()\n",
    "df_new['Jaccard distance'] = df_new.apply(lambda x: jaccard_distance.compute(tokenizer.tokenize(x['Amazon']), \\\n",
    "                                                                             tokenizer.tokenize(x['Google'])), axis=1)\n",
    "\n",
    "jaro_similarity = JaroSimilarity()\n",
    "df_new['Jaro distance (char-level)'] = df_new.apply(lambda x: 1 - jaro_similarity.compute(x['Amazon'], x['Google']), axis=1)\n",
    "\n",
    "df_new['Jaro distance (word-level)'] = df_new.apply(lambda x: 1 - jaro_similarity.compute(tokenizer.tokenize(x['Amazon']),\\\n",
    "                                                                                          tokenizer.tokenize(x['Google'])), axis=1)\n",
    "# Appending initial Match column\n",
    "df_new['Match'] = df['Match']\n"
   ]
  },
  {
   "cell_type": "code",
   "execution_count": 25,
   "id": "beed066e",
   "metadata": {},
   "outputs": [
    {
     "data": {
      "text/html": [
       "<div>\n",
       "<style scoped>\n",
       "    .dataframe tbody tr th:only-of-type {\n",
       "        vertical-align: middle;\n",
       "    }\n",
       "\n",
       "    .dataframe tbody tr th {\n",
       "        vertical-align: top;\n",
       "    }\n",
       "\n",
       "    .dataframe thead th {\n",
       "        text-align: right;\n",
       "    }\n",
       "</style>\n",
       "<table border=\"1\" class=\"dataframe\">\n",
       "  <thead>\n",
       "    <tr style=\"text-align: right;\">\n",
       "      <th></th>\n",
       "      <th>Amazon</th>\n",
       "      <th>Google</th>\n",
       "      <th>Levenshtein distance (normalized)</th>\n",
       "      <th>Jaccard distance</th>\n",
       "      <th>Jaro distance (char-level)</th>\n",
       "      <th>Jaro distance (word-level)</th>\n",
       "      <th>Match</th>\n",
       "    </tr>\n",
       "  </thead>\n",
       "  <tbody>\n",
       "    <tr>\n",
       "      <th>0</th>\n",
       "      <td>950000 clickart dvd image pack premier rom</td>\n",
       "      <td>950000 clickart dvd image pack premier rom</td>\n",
       "      <td>0.000000</td>\n",
       "      <td>0.000000</td>\n",
       "      <td>0.000000</td>\n",
       "      <td>0.000000</td>\n",
       "      <td>1</td>\n",
       "    </tr>\n",
       "    <tr>\n",
       "      <th>1</th>\n",
       "      <td>38 activity age ark case center jewel noah s</td>\n",
       "      <td>activity ark beginner bible center noah s the</td>\n",
       "      <td>0.577778</td>\n",
       "      <td>0.583333</td>\n",
       "      <td>0.294637</td>\n",
       "      <td>0.273148</td>\n",
       "      <td>1</td>\n",
       "    </tr>\n",
       "    <tr>\n",
       "      <th>2</th>\n",
       "      <td>2007 account by for nonprofit peachtree premiu...</td>\n",
       "      <td>2007 account for nonprofit premium ptree sage ...</td>\n",
       "      <td>0.448276</td>\n",
       "      <td>0.400000</td>\n",
       "      <td>0.201653</td>\n",
       "      <td>0.166667</td>\n",
       "      <td>1</td>\n",
       "    </tr>\n",
       "    <tr>\n",
       "      <th>3</th>\n",
       "      <td>coach singe unlimited</td>\n",
       "      <td>coach electronic learning product singe unlimited</td>\n",
       "      <td>0.571429</td>\n",
       "      <td>0.500000</td>\n",
       "      <td>0.341091</td>\n",
       "      <td>0.500000</td>\n",
       "      <td>1</td>\n",
       "    </tr>\n",
       "    <tr>\n",
       "      <th>4</th>\n",
       "      <td>65 adobe after effect from professional standa...</td>\n",
       "      <td>22070152 65 adobe after effect pbupgrd software</td>\n",
       "      <td>0.661017</td>\n",
       "      <td>0.666667</td>\n",
       "      <td>0.348369</td>\n",
       "      <td>0.328042</td>\n",
       "      <td>1</td>\n",
       "    </tr>\n",
       "  </tbody>\n",
       "</table>\n",
       "</div>"
      ],
      "text/plain": [
       "                                              Amazon  \\\n",
       "0         950000 clickart dvd image pack premier rom   \n",
       "1       38 activity age ark case center jewel noah s   \n",
       "2  2007 account by for nonprofit peachtree premiu...   \n",
       "3                              coach singe unlimited   \n",
       "4  65 adobe after effect from professional standa...   \n",
       "\n",
       "                                              Google  \\\n",
       "0         950000 clickart dvd image pack premier rom   \n",
       "1      activity ark beginner bible center noah s the   \n",
       "2  2007 account for nonprofit premium ptree sage ...   \n",
       "3  coach electronic learning product singe unlimited   \n",
       "4    22070152 65 adobe after effect pbupgrd software   \n",
       "\n",
       "   Levenshtein distance (normalized)  Jaccard distance  \\\n",
       "0                           0.000000          0.000000   \n",
       "1                           0.577778          0.583333   \n",
       "2                           0.448276          0.400000   \n",
       "3                           0.571429          0.500000   \n",
       "4                           0.661017          0.666667   \n",
       "\n",
       "   Jaro distance (char-level)  Jaro distance (word-level)  Match  \n",
       "0                    0.000000                    0.000000      1  \n",
       "1                    0.294637                    0.273148      1  \n",
       "2                    0.201653                    0.166667      1  \n",
       "3                    0.341091                    0.500000      1  \n",
       "4                    0.348369                    0.328042      1  "
      ]
     },
     "execution_count": 25,
     "metadata": {},
     "output_type": "execute_result"
    }
   ],
   "source": [
    "df_new.head()"
   ]
  },
  {
   "cell_type": "code",
   "execution_count": 26,
   "id": "0998edfe",
   "metadata": {},
   "outputs": [],
   "source": [
    "df_new['Levenshtein/Jaccard'] = 0.2*df_new['Levenshtein distance (normalized)'] + 0.8*df_new['Jaccard distance']\n",
    "\n",
    "# df_new['Levenshtein/Jaccard'] = 2 * df_new['Levenshtein distance (normalized)'] * df_new['Jaccard distance'] / (df_new['Levenshtein distance (normalized)'] + df_new['Jaccard distance'])\n",
    "# df_new['Levenshtein/Jaccard'] = df_new['Levenshtein/Jaccard'].fillna(0.000001)\n",
    "\n",
    "# df_new['Jaro(char)/Jaro(word)'] = 2 * df_new['Jaro distance (char-level)'] * df_new['Jaro distance (word-level)'] / (df_new['Jaro distance (char-level)'] + df_new['Jaro distance (word-level)'])\n",
    "# df_new['Jaro(char)/Jaro(word)'].fillna(0.000001, inplace=True)\n",
    "\n",
    "df_new['Jaro(char)/Jaro(word)'] = np.sqrt(df_new['Jaro distance (char-level)']*df_new['Jaro distance (word-level)'])\n"
   ]
  },
  {
   "cell_type": "code",
   "execution_count": 27,
   "id": "a15dd4eb",
   "metadata": {},
   "outputs": [
    {
     "name": "stdout",
     "output_type": "stream",
     "text": [
      "Levenshtein/Jaccard ROC AUC score (weighted sum) :\t 0.9945115384615384\n",
      "Jaro char/word comb ROC AUC score (geometric mean):\t 0.9772701183431953\n"
     ]
    },
    {
     "data": {
      "image/png": "[encoded data removed]",
      "text/plain": [
       "<Figure size 600x600 with 1 Axes>"
      ]
     },
     "metadata": {},
     "output_type": "display_data"
    }
   ],
   "source": [
    "y_true = df_new['Match'].values\n",
    "\n",
    "y_pred_lev_jac = df_new['Levenshtein/Jaccard'].values\n",
    "y_pred_jar_comb = df_new['Jaro(char)/Jaro(word)'].values\n",
    "\n",
    "fpr_lev_jac, tpr_lev_jac, _ = roc_curve(y_true, y_pred_lev_jac, pos_label=0)\n",
    "fpr_jar_comb, tpr_jar_comb, _ = roc_curve(y_true, y_pred_jar_comb, pos_label=0)\n",
    "\n",
    "auc_lev_jac = roc_auc_score(np.logical_not(y_true).astype(int), y_pred_lev_jac)\n",
    "auc_jar_comb = roc_auc_score(np.logical_not(y_true).astype(int), y_pred_jar_comb)\n",
    "\n",
    "\n",
    "############ Plotting ############\n",
    "\n",
    "plt.figure(figsize=(6,6))\n",
    "\n",
    "plt.plot(fpr_lev_jac, tpr_lev_jac, label=f'Levenshtein (char) / Jaccard (word): AUC={auc_lev_jac:.3f}')\n",
    "plt.plot(fpr_jar_comb, tpr_jar_comb, label=f'Jaro (char) / Jaro (word): AUC={auc_jar_comb:.3f}')\n",
    "plt.plot(fpr_lev_jac, fpr_lev_jac, color='0.7', linestyle='--')\n",
    "\n",
    "plt.ylabel('True Positive Rate')\n",
    "plt.xlabel('False Positive Rate')\n",
    "\n",
    "legend = plt.legend()\n",
    "max_shift = max([t.get_window_extent().width for t in legend.get_texts()])\n",
    "for t in legend.get_texts():\n",
    "    t.set_ha('right')  # ha is alias for horizontalalignment\n",
    "    temp_shift = max_shift - t.get_window_extent().width\n",
    "    t.set_position((temp_shift, 0))    \n",
    "\n",
    "print('Levenshtein/Jaccard ROC AUC score (weighted sum) :\\t', auc_lev_jac)\n",
    "print('Jaro char/word comb ROC AUC score (geometric mean):\\t', auc_jar_comb)\n"
   ]
  }
 ],
 "metadata": {
  "kernelspec": {
   "display_name": "Python 3 (ipykernel)",
   "language": "python",
   "name": "python3"
  },
  "language_info": {
   "codemirror_mode": {
    "name": "ipython",
    "version": 3
   },
   "file_extension": ".py",
   "mimetype": "text/x-python",
   "name": "python",
   "nbconvert_exporter": "python",
   "pygments_lexer": "ipython3",
   "version": "3.10.12"
  }
 },
 "nbformat": 4,
 "nbformat_minor": 5
}
