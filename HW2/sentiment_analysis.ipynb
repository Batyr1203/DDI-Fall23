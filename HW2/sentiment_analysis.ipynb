{
 "cells": [
  {
   "cell_type": "markdown",
   "id": "33aa4640",
   "metadata": {},
   "source": [
    "# Sentiment Analysis"
   ]
  },
  {
   "cell_type": "code",
   "execution_count": 1,
   "id": "efb96f7b",
   "metadata": {},
   "outputs": [],
   "source": [
    "import pandas as pd\n",
    "import numpy as np\n",
    "import stanza\n",
    "import matplotlib.pyplot as plt\n",
    "from sklearn.metrics import (confusion_matrix, ConfusionMatrixDisplay, \n",
    "                             classification_report, f1_score)\n",
    "\n",
    "import io\n",
    "from tqdm import tqdm\n",
    "tqdm.pandas()\n"
   ]
  },
  {
   "cell_type": "markdown",
   "id": "9d2f0731",
   "metadata": {},
   "source": [
    "## 1. Yelp data"
   ]
  },
  {
   "cell_type": "code",
   "execution_count": 2,
   "id": "5c183699",
   "metadata": {},
   "outputs": [
    {
     "data": {
      "text/html": [
       "<div>\n",
       "<style scoped>\n",
       "    .dataframe tbody tr th:only-of-type {\n",
       "        vertical-align: middle;\n",
       "    }\n",
       "\n",
       "    .dataframe tbody tr th {\n",
       "        vertical-align: top;\n",
       "    }\n",
       "\n",
       "    .dataframe thead th {\n",
       "        text-align: right;\n",
       "    }\n",
       "</style>\n",
       "<table border=\"1\" class=\"dataframe\">\n",
       "  <thead>\n",
       "    <tr style=\"text-align: right;\">\n",
       "      <th></th>\n",
       "      <th>Review</th>\n",
       "      <th>Sentiment</th>\n",
       "    </tr>\n",
       "  </thead>\n",
       "  <tbody>\n",
       "    <tr>\n",
       "      <th>0</th>\n",
       "      <td>Wow... Loved this place.</td>\n",
       "      <td>1</td>\n",
       "    </tr>\n",
       "    <tr>\n",
       "      <th>1</th>\n",
       "      <td>Crust is not good.</td>\n",
       "      <td>0</td>\n",
       "    </tr>\n",
       "    <tr>\n",
       "      <th>2</th>\n",
       "      <td>Not tasty and the texture was just nasty.</td>\n",
       "      <td>0</td>\n",
       "    </tr>\n",
       "    <tr>\n",
       "      <th>3</th>\n",
       "      <td>Stopped by during the late May bank holiday of...</td>\n",
       "      <td>1</td>\n",
       "    </tr>\n",
       "    <tr>\n",
       "      <th>4</th>\n",
       "      <td>The selection on the menu was great and so wer...</td>\n",
       "      <td>1</td>\n",
       "    </tr>\n",
       "    <tr>\n",
       "      <th>...</th>\n",
       "      <td>...</td>\n",
       "      <td>...</td>\n",
       "    </tr>\n",
       "    <tr>\n",
       "      <th>995</th>\n",
       "      <td>I think food should have flavor and texture an...</td>\n",
       "      <td>0</td>\n",
       "    </tr>\n",
       "    <tr>\n",
       "      <th>996</th>\n",
       "      <td>Appetite instantly gone.</td>\n",
       "      <td>0</td>\n",
       "    </tr>\n",
       "    <tr>\n",
       "      <th>997</th>\n",
       "      <td>Overall I was not impressed and would not go b...</td>\n",
       "      <td>0</td>\n",
       "    </tr>\n",
       "    <tr>\n",
       "      <th>998</th>\n",
       "      <td>The whole experience was underwhelming, and I ...</td>\n",
       "      <td>0</td>\n",
       "    </tr>\n",
       "    <tr>\n",
       "      <th>999</th>\n",
       "      <td>Then, as if I hadn't wasted enough of my life ...</td>\n",
       "      <td>0</td>\n",
       "    </tr>\n",
       "  </tbody>\n",
       "</table>\n",
       "<p>1000 rows × 2 columns</p>\n",
       "</div>"
      ],
      "text/plain": [
       "                                                Review  Sentiment\n",
       "0                             Wow... Loved this place.          1\n",
       "1                                   Crust is not good.          0\n",
       "2            Not tasty and the texture was just nasty.          0\n",
       "3    Stopped by during the late May bank holiday of...          1\n",
       "4    The selection on the menu was great and so wer...          1\n",
       "..                                                 ...        ...\n",
       "995  I think food should have flavor and texture an...          0\n",
       "996                           Appetite instantly gone.          0\n",
       "997  Overall I was not impressed and would not go b...          0\n",
       "998  The whole experience was underwhelming, and I ...          0\n",
       "999  Then, as if I hadn't wasted enough of my life ...          0\n",
       "\n",
       "[1000 rows x 2 columns]"
      ]
     },
     "execution_count": 2,
     "metadata": {},
     "output_type": "execute_result"
    }
   ],
   "source": [
    "yelp_data = pd.read_csv('yelp_labelled.txt', sep='\\t', header=None)\n",
    "yelp_data.columns = ['Review', 'Sentiment']\n",
    "yelp_data"
   ]
  },
  {
   "cell_type": "markdown",
   "id": "6d26f5c9",
   "metadata": {},
   "source": [
    "## 2. SentiWords"
   ]
  },
  {
   "cell_type": "code",
   "execution_count": 3,
   "id": "3c737973",
   "metadata": {},
   "outputs": [
    {
     "data": {
      "text/html": [
       "<div>\n",
       "<style scoped>\n",
       "    .dataframe tbody tr th:only-of-type {\n",
       "        vertical-align: middle;\n",
       "    }\n",
       "\n",
       "    .dataframe tbody tr th {\n",
       "        vertical-align: top;\n",
       "    }\n",
       "\n",
       "    .dataframe thead th {\n",
       "        text-align: right;\n",
       "    }\n",
       "</style>\n",
       "<table border=\"1\" class=\"dataframe\">\n",
       "  <thead>\n",
       "    <tr style=\"text-align: right;\">\n",
       "      <th></th>\n",
       "      <th>Lemma</th>\n",
       "      <th>PoS</th>\n",
       "      <th>Prior polarity</th>\n",
       "    </tr>\n",
       "  </thead>\n",
       "  <tbody>\n",
       "    <tr>\n",
       "      <th>0</th>\n",
       "      <td>.22_caliber</td>\n",
       "      <td>a</td>\n",
       "      <td>0.00000</td>\n",
       "    </tr>\n",
       "    <tr>\n",
       "      <th>1</th>\n",
       "      <td>.22_calibre</td>\n",
       "      <td>a</td>\n",
       "      <td>0.00000</td>\n",
       "    </tr>\n",
       "    <tr>\n",
       "      <th>2</th>\n",
       "      <td>.22-caliber</td>\n",
       "      <td>a</td>\n",
       "      <td>0.00000</td>\n",
       "    </tr>\n",
       "    <tr>\n",
       "      <th>3</th>\n",
       "      <td>.22-calibre</td>\n",
       "      <td>a</td>\n",
       "      <td>0.00000</td>\n",
       "    </tr>\n",
       "    <tr>\n",
       "      <th>4</th>\n",
       "      <td>.22</td>\n",
       "      <td>n</td>\n",
       "      <td>0.12208</td>\n",
       "    </tr>\n",
       "    <tr>\n",
       "      <th>...</th>\n",
       "      <td>...</td>\n",
       "      <td>...</td>\n",
       "      <td>...</td>\n",
       "    </tr>\n",
       "    <tr>\n",
       "      <th>155282</th>\n",
       "      <td>zymolytic</td>\n",
       "      <td>a</td>\n",
       "      <td>-0.19821</td>\n",
       "    </tr>\n",
       "    <tr>\n",
       "      <th>155283</th>\n",
       "      <td>zymosis</td>\n",
       "      <td>n</td>\n",
       "      <td>0.15754</td>\n",
       "    </tr>\n",
       "    <tr>\n",
       "      <th>155284</th>\n",
       "      <td>zymotic</td>\n",
       "      <td>a</td>\n",
       "      <td>-0.08847</td>\n",
       "    </tr>\n",
       "    <tr>\n",
       "      <th>155285</th>\n",
       "      <td>zymurgy</td>\n",
       "      <td>n</td>\n",
       "      <td>0.00000</td>\n",
       "    </tr>\n",
       "    <tr>\n",
       "      <th>155286</th>\n",
       "      <td>zyrian</td>\n",
       "      <td>n</td>\n",
       "      <td>0.00000</td>\n",
       "    </tr>\n",
       "  </tbody>\n",
       "</table>\n",
       "<p>155287 rows × 3 columns</p>\n",
       "</div>"
      ],
      "text/plain": [
       "              Lemma PoS  Prior polarity\n",
       "0       .22_caliber   a         0.00000\n",
       "1       .22_calibre   a         0.00000\n",
       "2       .22-caliber   a         0.00000\n",
       "3       .22-calibre   a         0.00000\n",
       "4               .22   n         0.12208\n",
       "...             ...  ..             ...\n",
       "155282    zymolytic   a        -0.19821\n",
       "155283      zymosis   n         0.15754\n",
       "155284      zymotic   a        -0.08847\n",
       "155285      zymurgy   n         0.00000\n",
       "155286       zyrian   n         0.00000\n",
       "\n",
       "[155287 rows x 3 columns]"
      ]
     },
     "execution_count": 3,
     "metadata": {},
     "output_type": "execute_result"
    }
   ],
   "source": [
    "with open('SentiWords_1.1.txt') as f:\n",
    "    raw_data = f.readlines()\n",
    "\n",
    "data = []\n",
    "    \n",
    "for line in raw_data:\n",
    "    # removing license info\n",
    "    if line[0] != '#':\n",
    "        data.append(line)\n",
    "        \n",
    "senti_words = pd.read_csv(io.StringIO(''.join(data)), sep='#|\\t', header=None, engine='python')\n",
    "senti_words.columns = ['Lemma', 'PoS', 'Prior polarity']\n",
    "\n",
    "senti_words\n",
    "    "
   ]
  },
  {
   "cell_type": "code",
   "execution_count": 4,
   "id": "85b54db4",
   "metadata": {},
   "outputs": [
    {
     "data": {
      "text/plain": [
       "n    117798\n",
       "a     21479\n",
       "v     11529\n",
       "r      4481\n",
       "Name: PoS, dtype: int64"
      ]
     },
     "execution_count": 4,
     "metadata": {},
     "output_type": "execute_result"
    }
   ],
   "source": [
    "# PoS tags in SentiWords data\n",
    "senti_words['PoS'].value_counts()\n"
   ]
  },
  {
   "cell_type": "markdown",
   "id": "09f840a6",
   "metadata": {},
   "source": [
    "## 3. Lexicon-based Sentiment Classification Model"
   ]
  },
  {
   "cell_type": "code",
   "execution_count": 5,
   "id": "b4a23184",
   "metadata": {},
   "outputs": [],
   "source": [
    "class LexiconSentimentClassifier():\n",
    "\n",
    "    def __init__(self):\n",
    "\n",
    "        # Using Stanza for tokenization, lemmatization and PoS-tagging\n",
    "        self.nlp = stanza.Pipeline(lang='en', processors='tokenize,pos,lemma', download_method='reuse_resources')\n",
    "        \n",
    "        # Converting senti_words dataframe into dictionary for efficient search of lemmas\n",
    "        self.senti_words_dict = senti_words.set_index(['Lemma', 'PoS'])['Prior polarity'].to_dict()\n",
    "        \n",
    "        \n",
    "    def map_pos_tag(self, pos_tag):\n",
    "        \"\"\" Maps a Stanza PoS tag into SentiWords PoS tag \"\"\"\n",
    "\n",
    "        if pos_tag == 'ADJ':\n",
    "            return 'a'\n",
    "        elif pos_tag == 'VERB':\n",
    "            return 'v'\n",
    "        elif pos_tag in ['ADV', 'PART']:\n",
    "            return 'r'\n",
    "        else:\n",
    "            return 'n'\n",
    "\n",
    "\n",
    "    def get_senti_word_score(self, lemma, pos):\n",
    "        \"\"\" Retrieves the sentiment score for the given (lemma, PoS) pair \"\"\"\n",
    "        \n",
    "        try:  # returning sentiment score if the (lemma, pos) exists, otherwise returning 0\n",
    "            return self.senti_words_dict[(lemma, pos)]\n",
    "        except KeyError:\n",
    "            return 0\n",
    "    \n",
    "\n",
    "    def predict_sentiment(self, s, lambd=None):\n",
    "        \"\"\" Predict sentiment for the given sentence \n",
    "        \n",
    "        Parameters:\n",
    "        s (str): String which is to be sentiment analyzed\n",
    "        \n",
    "        Returns:\n",
    "        result, pos_senti_score, neg_senti_score (int, float, float):\n",
    "            sentiment result (0 or 1), total positive score, total negative score for the string\n",
    "        \n",
    "        \"\"\"\n",
    "                \n",
    "        doc = self.nlp(s)\n",
    "        pos_senti_score = 0\n",
    "        neg_senti_score = 0\n",
    "\n",
    "        not_state = 0   # helper var for keeping track of words following 'not'; 2 states: 0, 1\n",
    "\n",
    "        for sentence in doc.sentences:\n",
    "            for word in sentence.words:\n",
    "                lemma = word.lemma\n",
    "                pos = self.map_pos_tag(word.pos)   # storing the PoS tag in the SentiWords format \n",
    "\n",
    "                if lemma == 'not':  # start of the 'not' state\n",
    "                    not_state = 1\n",
    "                \n",
    "                if word.pos == 'PUNCT':  # end of the 'not' state\n",
    "                    not_state = 0\n",
    "                                    \n",
    "                score = self.get_senti_word_score(lemma, pos)\n",
    "                \n",
    "                if not not_state:  # if we are not in the 'not' state, we'll assign the score directly     \n",
    "                    if score > 0:\n",
    "                        pos_senti_score += score\n",
    "                    else:\n",
    "                        neg_senti_score += score\n",
    "                else:   # otherwise, we are in the 'not' state and we'll assign the score to the opposite class\n",
    "                    if score > 0:\n",
    "                        neg_senti_score += -score\n",
    "                    else:\n",
    "                        pos_senti_score += -score\n",
    "\n",
    "        if lambd is None:\n",
    "            result = 1 if pos_senti_score > abs(neg_senti_score) else 0 \n",
    "        else:\n",
    "            result = 1 if pos_senti_score/max(abs(neg_senti_score), 1e-6) > lambd else 0\n",
    "            \n",
    "        return result, pos_senti_score, neg_senti_score\n",
    "    "
   ]
  },
  {
   "cell_type": "markdown",
   "id": "60e637a3",
   "metadata": {},
   "source": [
    "## 4. Model Evaluation on the Yelp Data"
   ]
  },
  {
   "cell_type": "markdown",
   "id": "0956c89d",
   "metadata": {},
   "source": [
    "Decision rule:\n",
    "\\begin{equation}\n",
    "    Sentiment = \n",
    "    \\begin{cases} \n",
    "    1, \\quad \\text{if } f^+ > f^-, \\\\\n",
    "    0, \\quad \\text{otherwise.}\n",
    "    \\end{cases}\n",
    "    \\end{equation} \n"
   ]
  },
  {
   "cell_type": "code",
   "execution_count": 6,
   "id": "81c7198c",
   "metadata": {},
   "outputs": [
    {
     "name": "stderr",
     "output_type": "stream",
     "text": [
      "2023-09-21 19:15:42 INFO: Loading these models for language: en (English):\n",
      "=================================\n",
      "| Processor | Package           |\n",
      "---------------------------------\n",
      "| tokenize  | combined          |\n",
      "| pos       | combined_charlm   |\n",
      "| lemma     | combined_nocharlm |\n",
      "=================================\n",
      "\n",
      "2023-09-21 19:15:42 INFO: Using device: cpu\n",
      "2023-09-21 19:15:42 INFO: Loading: tokenize\n",
      "2023-09-21 19:15:42 INFO: Loading: pos\n",
      "2023-09-21 19:15:42 INFO: Loading: lemma\n",
      "2023-09-21 19:15:42 INFO: Done loading processors!\n"
     ]
    }
   ],
   "source": [
    "model1 = LexiconSentimentClassifier()\n"
   ]
  },
  {
   "cell_type": "code",
   "execution_count": 7,
   "id": "b33221c2",
   "metadata": {},
   "outputs": [
    {
     "name": "stderr",
     "output_type": "stream",
     "text": [
      "100%|███████████████████████████████████████| 1000/1000 [01:23<00:00, 12.00it/s]\n"
     ]
    }
   ],
   "source": [
    "# make predictions on the Yelp dataset\n",
    "y_pred_raw = np.array(yelp_data['Review'].progress_apply(model1.predict_sentiment))\n",
    "y_pred = [i[0] for i in y_pred_raw]   # get only first elements from the list of tuples (res, pos_score, neg_score)\n"
   ]
  },
  {
   "cell_type": "code",
   "execution_count": 8,
   "id": "f54605a2",
   "metadata": {},
   "outputs": [
    {
     "data": {
      "image/png": "[encoded data removed]",
      "text/plain": [
       "<Figure size 640x480 with 2 Axes>"
      ]
     },
     "metadata": {},
     "output_type": "display_data"
    },
    {
     "name": "stdout",
     "output_type": "stream",
     "text": [
      "F1 score for positive class: 0.7319\n",
      "F1 score for negative class: 0.5043\n"
     ]
    }
   ],
   "source": [
    "y_true = yelp_data['Sentiment'].values\n",
    "\n",
    "disp = ConfusionMatrixDisplay(confusion_matrix(y_true, y_pred))\n",
    "disp.plot()\n",
    "plt.show()\n",
    "\n",
    "print(f'F1 score for positive class: {f1_score(y_true, y_pred, pos_label=1):.4}')\n",
    "print(f'F1 score for negative class: {f1_score(y_true, y_pred, pos_label=0):.4}')\n"
   ]
  },
  {
   "cell_type": "code",
   "execution_count": 9,
   "id": "22b909e6",
   "metadata": {},
   "outputs": [
    {
     "name": "stdout",
     "output_type": "stream",
     "text": [
      "              precision    recall  f1-score   support\n",
      "\n",
      "    negative       0.88      0.35      0.50       500\n",
      "    positive       0.60      0.95      0.73       500\n",
      "\n",
      "    accuracy                           0.65      1000\n",
      "   macro avg       0.74      0.65      0.62      1000\n",
      "weighted avg       0.74      0.65      0.62      1000\n",
      "\n"
     ]
    }
   ],
   "source": [
    "print(classification_report(y_true, y_pred, target_names=['negative', 'positive']))"
   ]
  },
  {
   "cell_type": "code",
   "execution_count": 11,
   "id": "7e95a3ac",
   "metadata": {},
   "outputs": [
    {
     "data": {
      "text/plain": [
       "0"
      ]
     },
     "execution_count": 11,
     "metadata": {},
     "output_type": "execute_result"
    }
   ],
   "source": [
    "### Test\n",
    "\n",
    "model1.predict_sentiment('Not good')[0]"
   ]
  },
  {
   "cell_type": "markdown",
   "id": "cdeaecb2",
   "metadata": {},
   "source": [
    "### Using $\\lambda$ parameter (*Implicit learning from test Yelp data)\n",
    "\n",
    "Decision rule:\n",
    "\n",
    "\\begin{equation}\n",
    "    Sentiment = \n",
    "    \\begin{cases} \n",
    "    1, \\quad \\text{if } \\frac{f^+}{f^-} > \\lambda \\\\\n",
    "    0, \\quad \\text{otherwise.}\n",
    "    \\end{cases}    \n",
    "    \\end{equation} \n"
   ]
  },
  {
   "cell_type": "code",
   "execution_count": 12,
   "id": "45c11619",
   "metadata": {},
   "outputs": [],
   "source": [
    "# we've run this calculation above\n",
    "# y_pred_raw = np.array(yelp_data['Review'].progress_apply(model1.predict_sentiment))\n",
    "pos_scores = [i[1] for i in y_pred_raw]\n",
    "neg_scores = [i[2] for i in y_pred_raw]\n"
   ]
  },
  {
   "cell_type": "code",
   "execution_count": 13,
   "id": "2cdf58c9",
   "metadata": {},
   "outputs": [],
   "source": [
    "lambd_range = np.linspace(1, 5, 100)\n",
    "\n",
    "f1_pos = []\n",
    "f1_neg = []\n",
    "\n",
    "for lambd in lambd_range:\n",
    "    y_pred = []\n",
    "    for pos_senti_score, neg_senti_score in zip(pos_scores, neg_scores):\n",
    "        y_pred.append(1 if pos_senti_score/max(abs(neg_senti_score), 1e-6) > lambd else 0)\n",
    "    y_pred = np.array(y_pred)\n",
    "    \n",
    "    f1_pos.append(f1_score(y_true, y_pred, pos_label=1))\n",
    "    f1_neg.append(f1_score(y_true, y_pred, pos_label=0))\n"
   ]
  },
  {
   "cell_type": "code",
   "execution_count": 14,
   "id": "951e7907",
   "metadata": {},
   "outputs": [
    {
     "data": {
      "image/png": "[encoded data removed]",
      "text/plain": [
       "<Figure size 640x480 with 1 Axes>"
      ]
     },
     "metadata": {},
     "output_type": "display_data"
    },
    {
     "name": "stdout",
     "output_type": "stream",
     "text": [
      "Best lambda and f1 for positive class: 4.0, 0.83\n"
     ]
    }
   ],
   "source": [
    "plt.plot(lambd_range, f1_pos, label='positive class')\n",
    "plt.plot(lambd_range, f1_neg, label='negative class')\n",
    "\n",
    "plt.scatter(lambd_range[np.argmax(f1_pos)], np.max(f1_pos))\n",
    "plt.scatter(lambd_range[np.argmax(f1_neg)], np.max(f1_neg))\n",
    "\n",
    "plt.xlabel('$\\lambda$')\n",
    "plt.ylabel('f1 score')\n",
    "\n",
    "plt.legend()\n",
    "plt.grid()\n",
    "plt.show()\n",
    "\n",
    "print(f'Best lambda and f1 for positive class: {lambd_range[np.argmax(f1_pos)]:.2}, {np.max(f1_pos):.2}')\n",
    "#print(f'Best lambda and f1 for negative class: {lambd_range[np.argmax(f1_neg)]:.2}, {np.max(f1_neg):.2}')\n"
   ]
  },
  {
   "cell_type": "markdown",
   "id": "7254c96e",
   "metadata": {},
   "source": [
    "The obtained $\\lambda$ value yields the best f1-score for the positive class. But, the f1-score for the negative class continues to grow as we increase $\\lambda$ over the much wider range ($\\lambda > 5$). However, as this increase is unsignificant, we will choose the best option for f1 score for the positive class."
   ]
  },
  {
   "cell_type": "code",
   "execution_count": 15,
   "id": "f0969b0d",
   "metadata": {},
   "outputs": [
    {
     "name": "stderr",
     "output_type": "stream",
     "text": [
      "100%|███████████████████████████████████████| 1000/1000 [01:21<00:00, 12.22it/s]\n"
     ]
    }
   ],
   "source": [
    "# Recalculating metrics for the chosen lambda parameter\n",
    "\n",
    "y_pred_raw = np.array(yelp_data['Review'].progress_apply(model1.predict_sentiment, args=(4,)))\n",
    "y_pred = [i[0] for i in y_pred_raw]\n"
   ]
  },
  {
   "cell_type": "code",
   "execution_count": 16,
   "id": "17366b8a",
   "metadata": {},
   "outputs": [
    {
     "data": {
      "image/png": "[encoded data removed]",
      "text/plain": [
       "<Figure size 640x480 with 2 Axes>"
      ]
     },
     "metadata": {},
     "output_type": "display_data"
    },
    {
     "name": "stdout",
     "output_type": "stream",
     "text": [
      "F1 score for positive class: 0.8268\n",
      "F1 score for negative class: 0.7921\n"
     ]
    }
   ],
   "source": [
    "y_true = yelp_data['Sentiment'].values\n",
    "\n",
    "disp = ConfusionMatrixDisplay(confusion_matrix(y_true, y_pred))\n",
    "disp.plot()\n",
    "plt.show()\n",
    "\n",
    "print(f'F1 score for positive class: {f1_score(y_true, y_pred, pos_label=1):.4}')\n",
    "print(f'F1 score for negative class: {f1_score(y_true, y_pred, pos_label=0):.4}')\n"
   ]
  },
  {
   "cell_type": "code",
   "execution_count": 17,
   "id": "1aab16a2",
   "metadata": {},
   "outputs": [
    {
     "name": "stdout",
     "output_type": "stream",
     "text": [
      "              precision    recall  f1-score   support\n",
      "\n",
      "    negative       0.88      0.72      0.79       500\n",
      "    positive       0.76      0.90      0.83       500\n",
      "\n",
      "    accuracy                           0.81      1000\n",
      "   macro avg       0.82      0.81      0.81      1000\n",
      "weighted avg       0.82      0.81      0.81      1000\n",
      "\n"
     ]
    }
   ],
   "source": [
    "print(classification_report(y_true, y_pred, target_names=['negative', 'positive']))\n"
   ]
  },
  {
   "cell_type": "markdown",
   "id": "7de9a966",
   "metadata": {},
   "source": [
    "## 5. Stanza Sentiment Analysis Model"
   ]
  },
  {
   "cell_type": "code",
   "execution_count": 18,
   "id": "1d8590dd",
   "metadata": {},
   "outputs": [
    {
     "name": "stderr",
     "output_type": "stream",
     "text": [
      "2023-09-21 19:19:14 INFO: Loading these models for language: en (English):\n",
      "========================\n",
      "| Processor | Package  |\n",
      "------------------------\n",
      "| tokenize  | combined |\n",
      "| sentiment | sstplus  |\n",
      "========================\n",
      "\n",
      "2023-09-21 19:19:14 INFO: Using device: cpu\n",
      "2023-09-21 19:19:14 INFO: Loading: tokenize\n",
      "2023-09-21 19:19:14 INFO: Loading: sentiment\n",
      "2023-09-21 19:19:14 INFO: Done loading processors!\n"
     ]
    }
   ],
   "source": [
    "nlp = stanza.Pipeline(lang='en', processors='tokenize,sentiment', download_method=None, tokenize_no_ssplit=True)"
   ]
  },
  {
   "cell_type": "code",
   "execution_count": 19,
   "id": "4fa33428",
   "metadata": {},
   "outputs": [
    {
     "name": "stderr",
     "output_type": "stream",
     "text": [
      "100%|███████████████████████████████████████| 1000/1000 [01:17<00:00, 12.97it/s]\n"
     ]
    }
   ],
   "source": [
    "y_pred_stanza = []\n",
    "\n",
    "for i, row in tqdm(yelp_data.iterrows(), total=len(yelp_data)):\n",
    "    doc = nlp(row['Review'])\n",
    "    \n",
    "    sentence = doc.sentences[0]\n",
    "    if sentence.sentiment in [2]: # (there 38 predicted neutral sentences, we will classify them as positive)\n",
    "        y_pred_stanza.append(1)\n",
    "    elif sentence.sentiment in [0,1]:\n",
    "        y_pred_stanza.append(0)\n",
    "    \n",
    "y_pred_stanze = np.array(y_pred_stanza)\n",
    "    "
   ]
  },
  {
   "cell_type": "code",
   "execution_count": 20,
   "id": "c88df390",
   "metadata": {},
   "outputs": [
    {
     "data": {
      "image/png": "[encoded data removed]",
      "text/plain": [
       "<Figure size 640x480 with 2 Axes>"
      ]
     },
     "metadata": {},
     "output_type": "display_data"
    },
    {
     "name": "stdout",
     "output_type": "stream",
     "text": [
      "F1 score for positive class: 0.9714\n",
      "F1 score for negative class: 0.9725\n"
     ]
    }
   ],
   "source": [
    "disp = ConfusionMatrixDisplay(confusion_matrix(y_true, y_pred_stanza))\n",
    "disp.plot()\n",
    "plt.show()\n",
    "\n",
    "print(f'F1 score for positive class: {f1_score(y_true, y_pred_stanza, pos_label=1):.4}')\n",
    "print(f'F1 score for negative class: {f1_score(y_true, y_pred_stanza, pos_label=0):.4}')\n"
   ]
  },
  {
   "cell_type": "code",
   "execution_count": 21,
   "id": "4f22f6cd",
   "metadata": {},
   "outputs": [
    {
     "name": "stdout",
     "output_type": "stream",
     "text": [
      "              precision    recall  f1-score   support\n",
      "\n",
      "    negative       0.95      0.99      0.97       500\n",
      "    positive       0.99      0.95      0.97       500\n",
      "\n",
      "    accuracy                           0.97      1000\n",
      "   macro avg       0.97      0.97      0.97      1000\n",
      "weighted avg       0.97      0.97      0.97      1000\n",
      "\n"
     ]
    }
   ],
   "source": [
    "print(classification_report(y_true, y_pred_stanza, target_names=['negative', 'positive']))"
   ]
  }
 ],
 "metadata": {
  "kernelspec": {
   "display_name": "Python 3 (ipykernel)",
   "language": "python",
   "name": "python3"
  },
  "language_info": {
   "codemirror_mode": {
    "name": "ipython",
    "version": 3
   },
   "file_extension": ".py",
   "mimetype": "text/x-python",
   "name": "python",
   "nbconvert_exporter": "python",
   "pygments_lexer": "ipython3",
   "version": "3.10.12"
  }
 },
 "nbformat": 4,
 "nbformat_minor": 5
}
