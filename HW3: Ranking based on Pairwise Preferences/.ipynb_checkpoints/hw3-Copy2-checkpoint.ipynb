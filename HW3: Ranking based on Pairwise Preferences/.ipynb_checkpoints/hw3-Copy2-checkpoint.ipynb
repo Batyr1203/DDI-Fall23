{
 "cells": [
  {
   "cell_type": "code",
   "execution_count": 21,
   "id": "a56ee5e1",
   "metadata": {},
   "outputs": [],
   "source": [
    "import pandas as pd\n",
    "import numpy as np\n",
    "from crowdkit.aggregation import BradleyTerry\n",
    "from scipy import stats\n",
    "\n",
    "import random\n",
    "import itertools\n",
    "\n",
    "import matplotlib.pyplot as plt\n",
    "import plotly.express as px\n",
    "pd.options.display.float_format = '{:.4f}'.format\n"
   ]
  },
  {
   "cell_type": "markdown",
   "id": "736d3b9b",
   "metadata": {},
   "source": [
    "## 1. Dataset"
   ]
  },
  {
   "cell_type": "code",
   "execution_count": 22,
   "id": "b537a896",
   "metadata": {},
   "outputs": [
    {
     "data": {
      "text/plain": [
       "{'Cloud Atlas': 7.4,\n",
       " 'Gravity': 7.7,\n",
       " 'I Am Legend': 7.2,\n",
       " 'Interstellar': 8.7,\n",
       " 'No Country for Old Men': 8.2,\n",
       " 'Rogue One: A Star Wars Story': 7.8,\n",
       " 'Shutter Island': 8.2,\n",
       " 'The Covenant': 7.5,\n",
       " 'The Curious Case of Benjamin Button': 7.8,\n",
       " 'The Martian': 8.0,\n",
       " 'The Pursuit of Happyness': 8.0,\n",
       " 'The Truman Show': 8.2}"
      ]
     },
     "execution_count": 22,
     "metadata": {},
     "output_type": "execute_result"
    }
   ],
   "source": [
    "movies_imdb = {\n",
    "    'Interstellar': 8.7,\n",
    "    'Cloud Atlas': 7.4,\n",
    "    'Rogue One: A Star Wars Story': 7.8,\n",
    "    'I Am Legend': 7.2,\n",
    "    'No Country for Old Men': 8.2,\n",
    "    'The Martian': 8.0,\n",
    "    'Shutter Island': 8.2,\n",
    "    'The Truman Show': 8.2,\n",
    "    'The Curious Case of Benjamin Button': 7.8,\n",
    "    'The Pursuit of Happyness': 8.0,\n",
    "    'The Covenant': 7.5,\n",
    "    'Gravity': 7.7,\n",
    "}\n",
    "\n",
    "movies_imdb = dict(sorted(movies_imdb.items()))\n",
    "movies_imdb\n"
   ]
  },
  {
   "cell_type": "code",
   "execution_count": 23,
   "id": "12084f0b",
   "metadata": {
    "scrolled": true
   },
   "outputs": [
    {
     "data": {
      "text/html": [
       "<div>\n",
       "<style scoped>\n",
       "    .dataframe tbody tr th:only-of-type {\n",
       "        vertical-align: middle;\n",
       "    }\n",
       "\n",
       "    .dataframe tbody tr th {\n",
       "        vertical-align: top;\n",
       "    }\n",
       "\n",
       "    .dataframe thead th {\n",
       "        text-align: right;\n",
       "    }\n",
       "</style>\n",
       "<table border=\"1\" class=\"dataframe\">\n",
       "  <thead>\n",
       "    <tr style=\"text-align: right;\">\n",
       "      <th></th>\n",
       "      <th>left</th>\n",
       "      <th>right</th>\n",
       "      <th>label</th>\n",
       "    </tr>\n",
       "  </thead>\n",
       "  <tbody>\n",
       "    <tr>\n",
       "      <th>0</th>\n",
       "      <td>Cloud Atlas</td>\n",
       "      <td>I Am Legend</td>\n",
       "      <td>Cloud Atlas</td>\n",
       "    </tr>\n",
       "    <tr>\n",
       "      <th>1</th>\n",
       "      <td>Gravity</td>\n",
       "      <td>Shutter Island</td>\n",
       "      <td>Shutter Island</td>\n",
       "    </tr>\n",
       "    <tr>\n",
       "      <th>2</th>\n",
       "      <td>Gravity</td>\n",
       "      <td>The Curious Case of Benjamin Button</td>\n",
       "      <td>The Curious Case of Benjamin Button</td>\n",
       "    </tr>\n",
       "    <tr>\n",
       "      <th>3</th>\n",
       "      <td>Rogue One: A Star Wars Story</td>\n",
       "      <td>The Pursuit of Happyness</td>\n",
       "      <td>Rogue One: A Star Wars Story</td>\n",
       "    </tr>\n",
       "    <tr>\n",
       "      <th>4</th>\n",
       "      <td>Gravity</td>\n",
       "      <td>The Martian</td>\n",
       "      <td>The Martian</td>\n",
       "    </tr>\n",
       "    <tr>\n",
       "      <th>5</th>\n",
       "      <td>Cloud Atlas</td>\n",
       "      <td>The Pursuit of Happyness</td>\n",
       "      <td>Cloud Atlas</td>\n",
       "    </tr>\n",
       "    <tr>\n",
       "      <th>6</th>\n",
       "      <td>Interstellar</td>\n",
       "      <td>The Pursuit of Happyness</td>\n",
       "      <td>Interstellar</td>\n",
       "    </tr>\n",
       "    <tr>\n",
       "      <th>7</th>\n",
       "      <td>No Country for Old Men</td>\n",
       "      <td>The Covenant</td>\n",
       "      <td>No Country for Old Men</td>\n",
       "    </tr>\n",
       "    <tr>\n",
       "      <th>8</th>\n",
       "      <td>The Curious Case of Benjamin Button</td>\n",
       "      <td>The Truman Show</td>\n",
       "      <td>The Curious Case of Benjamin Button</td>\n",
       "    </tr>\n",
       "    <tr>\n",
       "      <th>9</th>\n",
       "      <td>I Am Legend</td>\n",
       "      <td>The Truman Show</td>\n",
       "      <td>I Am Legend</td>\n",
       "    </tr>\n",
       "    <tr>\n",
       "      <th>10</th>\n",
       "      <td>The Covenant</td>\n",
       "      <td>The Truman Show</td>\n",
       "      <td>The Truman Show</td>\n",
       "    </tr>\n",
       "    <tr>\n",
       "      <th>11</th>\n",
       "      <td>Gravity</td>\n",
       "      <td>Rogue One: A Star Wars Story</td>\n",
       "      <td>Rogue One: A Star Wars Story</td>\n",
       "    </tr>\n",
       "    <tr>\n",
       "      <th>12</th>\n",
       "      <td>Rogue One: A Star Wars Story</td>\n",
       "      <td>The Covenant</td>\n",
       "      <td>Rogue One: A Star Wars Story</td>\n",
       "    </tr>\n",
       "    <tr>\n",
       "      <th>13</th>\n",
       "      <td>Cloud Atlas</td>\n",
       "      <td>Shutter Island</td>\n",
       "      <td>Cloud Atlas</td>\n",
       "    </tr>\n",
       "    <tr>\n",
       "      <th>14</th>\n",
       "      <td>The Covenant</td>\n",
       "      <td>The Martian</td>\n",
       "      <td>The Martian</td>\n",
       "    </tr>\n",
       "    <tr>\n",
       "      <th>15</th>\n",
       "      <td>No Country for Old Men</td>\n",
       "      <td>The Martian</td>\n",
       "      <td>The Martian</td>\n",
       "    </tr>\n",
       "    <tr>\n",
       "      <th>16</th>\n",
       "      <td>Cloud Atlas</td>\n",
       "      <td>Interstellar</td>\n",
       "      <td>Interstellar</td>\n",
       "    </tr>\n",
       "    <tr>\n",
       "      <th>17</th>\n",
       "      <td>The Covenant</td>\n",
       "      <td>The Curious Case of Benjamin Button</td>\n",
       "      <td>The Curious Case of Benjamin Button</td>\n",
       "    </tr>\n",
       "    <tr>\n",
       "      <th>18</th>\n",
       "      <td>Interstellar</td>\n",
       "      <td>The Martian</td>\n",
       "      <td>Interstellar</td>\n",
       "    </tr>\n",
       "    <tr>\n",
       "      <th>19</th>\n",
       "      <td>The Curious Case of Benjamin Button</td>\n",
       "      <td>The Pursuit of Happyness</td>\n",
       "      <td>The Pursuit of Happyness</td>\n",
       "    </tr>\n",
       "    <tr>\n",
       "      <th>20</th>\n",
       "      <td>Interstellar</td>\n",
       "      <td>Shutter Island</td>\n",
       "      <td>Interstellar</td>\n",
       "    </tr>\n",
       "    <tr>\n",
       "      <th>21</th>\n",
       "      <td>Gravity</td>\n",
       "      <td>I Am Legend</td>\n",
       "      <td>I Am Legend</td>\n",
       "    </tr>\n",
       "    <tr>\n",
       "      <th>22</th>\n",
       "      <td>Cloud Atlas</td>\n",
       "      <td>The Truman Show</td>\n",
       "      <td>Cloud Atlas</td>\n",
       "    </tr>\n",
       "    <tr>\n",
       "      <th>23</th>\n",
       "      <td>Interstellar</td>\n",
       "      <td>The Curious Case of Benjamin Button</td>\n",
       "      <td>Interstellar</td>\n",
       "    </tr>\n",
       "    <tr>\n",
       "      <th>24</th>\n",
       "      <td>The Martian</td>\n",
       "      <td>The Pursuit of Happyness</td>\n",
       "      <td>The Martian</td>\n",
       "    </tr>\n",
       "    <tr>\n",
       "      <th>25</th>\n",
       "      <td>I Am Legend</td>\n",
       "      <td>The Martian</td>\n",
       "      <td>I Am Legend</td>\n",
       "    </tr>\n",
       "    <tr>\n",
       "      <th>26</th>\n",
       "      <td>Gravity</td>\n",
       "      <td>The Truman Show</td>\n",
       "      <td>The Truman Show</td>\n",
       "    </tr>\n",
       "    <tr>\n",
       "      <th>27</th>\n",
       "      <td>Gravity</td>\n",
       "      <td>The Covenant</td>\n",
       "      <td>Gravity</td>\n",
       "    </tr>\n",
       "    <tr>\n",
       "      <th>28</th>\n",
       "      <td>Shutter Island</td>\n",
       "      <td>The Covenant</td>\n",
       "      <td>Shutter Island</td>\n",
       "    </tr>\n",
       "    <tr>\n",
       "      <th>29</th>\n",
       "      <td>No Country for Old Men</td>\n",
       "      <td>The Pursuit of Happyness</td>\n",
       "      <td>The Pursuit of Happyness</td>\n",
       "    </tr>\n",
       "    <tr>\n",
       "      <th>30</th>\n",
       "      <td>Rogue One: A Star Wars Story</td>\n",
       "      <td>Shutter Island</td>\n",
       "      <td>Rogue One: A Star Wars Story</td>\n",
       "    </tr>\n",
       "    <tr>\n",
       "      <th>31</th>\n",
       "      <td>Shutter Island</td>\n",
       "      <td>The Martian</td>\n",
       "      <td>Shutter Island</td>\n",
       "    </tr>\n",
       "    <tr>\n",
       "      <th>32</th>\n",
       "      <td>Shutter Island</td>\n",
       "      <td>The Pursuit of Happyness</td>\n",
       "      <td>Shutter Island</td>\n",
       "    </tr>\n",
       "    <tr>\n",
       "      <th>33</th>\n",
       "      <td>The Curious Case of Benjamin Button</td>\n",
       "      <td>The Martian</td>\n",
       "      <td>The Martian</td>\n",
       "    </tr>\n",
       "    <tr>\n",
       "      <th>34</th>\n",
       "      <td>No Country for Old Men</td>\n",
       "      <td>Rogue One: A Star Wars Story</td>\n",
       "      <td>Rogue One: A Star Wars Story</td>\n",
       "    </tr>\n",
       "    <tr>\n",
       "      <th>35</th>\n",
       "      <td>Cloud Atlas</td>\n",
       "      <td>The Covenant</td>\n",
       "      <td>Cloud Atlas</td>\n",
       "    </tr>\n",
       "    <tr>\n",
       "      <th>36</th>\n",
       "      <td>Rogue One: A Star Wars Story</td>\n",
       "      <td>The Truman Show</td>\n",
       "      <td>Rogue One: A Star Wars Story</td>\n",
       "    </tr>\n",
       "    <tr>\n",
       "      <th>37</th>\n",
       "      <td>Interstellar</td>\n",
       "      <td>No Country for Old Men</td>\n",
       "      <td>Interstellar</td>\n",
       "    </tr>\n",
       "    <tr>\n",
       "      <th>38</th>\n",
       "      <td>Gravity</td>\n",
       "      <td>No Country for Old Men</td>\n",
       "      <td>No Country for Old Men</td>\n",
       "    </tr>\n",
       "    <tr>\n",
       "      <th>39</th>\n",
       "      <td>The Martian</td>\n",
       "      <td>The Truman Show</td>\n",
       "      <td>The Truman Show</td>\n",
       "    </tr>\n",
       "    <tr>\n",
       "      <th>40</th>\n",
       "      <td>Shutter Island</td>\n",
       "      <td>The Truman Show</td>\n",
       "      <td>Shutter Island</td>\n",
       "    </tr>\n",
       "    <tr>\n",
       "      <th>41</th>\n",
       "      <td>I Am Legend</td>\n",
       "      <td>Interstellar</td>\n",
       "      <td>Interstellar</td>\n",
       "    </tr>\n",
       "    <tr>\n",
       "      <th>42</th>\n",
       "      <td>No Country for Old Men</td>\n",
       "      <td>Shutter Island</td>\n",
       "      <td>Shutter Island</td>\n",
       "    </tr>\n",
       "    <tr>\n",
       "      <th>43</th>\n",
       "      <td>Gravity</td>\n",
       "      <td>The Pursuit of Happyness</td>\n",
       "      <td>The Pursuit of Happyness</td>\n",
       "    </tr>\n",
       "    <tr>\n",
       "      <th>44</th>\n",
       "      <td>Rogue One: A Star Wars Story</td>\n",
       "      <td>The Curious Case of Benjamin Button</td>\n",
       "      <td>Rogue One: A Star Wars Story</td>\n",
       "    </tr>\n",
       "  </tbody>\n",
       "</table>\n",
       "</div>"
      ],
      "text/plain": [
       "                                   left                                right  \\\n",
       "0                           Cloud Atlas                          I Am Legend   \n",
       "1                               Gravity                       Shutter Island   \n",
       "2                               Gravity  The Curious Case of Benjamin Button   \n",
       "3          Rogue One: A Star Wars Story             The Pursuit of Happyness   \n",
       "4                               Gravity                          The Martian   \n",
       "5                           Cloud Atlas             The Pursuit of Happyness   \n",
       "6                          Interstellar             The Pursuit of Happyness   \n",
       "7                No Country for Old Men                         The Covenant   \n",
       "8   The Curious Case of Benjamin Button                      The Truman Show   \n",
       "9                           I Am Legend                      The Truman Show   \n",
       "10                         The Covenant                      The Truman Show   \n",
       "11                              Gravity         Rogue One: A Star Wars Story   \n",
       "12         Rogue One: A Star Wars Story                         The Covenant   \n",
       "13                          Cloud Atlas                       Shutter Island   \n",
       "14                         The Covenant                          The Martian   \n",
       "15               No Country for Old Men                          The Martian   \n",
       "16                          Cloud Atlas                         Interstellar   \n",
       "17                         The Covenant  The Curious Case of Benjamin Button   \n",
       "18                         Interstellar                          The Martian   \n",
       "19  The Curious Case of Benjamin Button             The Pursuit of Happyness   \n",
       "20                         Interstellar                       Shutter Island   \n",
       "21                              Gravity                          I Am Legend   \n",
       "22                          Cloud Atlas                      The Truman Show   \n",
       "23                         Interstellar  The Curious Case of Benjamin Button   \n",
       "24                          The Martian             The Pursuit of Happyness   \n",
       "25                          I Am Legend                          The Martian   \n",
       "26                              Gravity                      The Truman Show   \n",
       "27                              Gravity                         The Covenant   \n",
       "28                       Shutter Island                         The Covenant   \n",
       "29               No Country for Old Men             The Pursuit of Happyness   \n",
       "30         Rogue One: A Star Wars Story                       Shutter Island   \n",
       "31                       Shutter Island                          The Martian   \n",
       "32                       Shutter Island             The Pursuit of Happyness   \n",
       "33  The Curious Case of Benjamin Button                          The Martian   \n",
       "34               No Country for Old Men         Rogue One: A Star Wars Story   \n",
       "35                          Cloud Atlas                         The Covenant   \n",
       "36         Rogue One: A Star Wars Story                      The Truman Show   \n",
       "37                         Interstellar               No Country for Old Men   \n",
       "38                              Gravity               No Country for Old Men   \n",
       "39                          The Martian                      The Truman Show   \n",
       "40                       Shutter Island                      The Truman Show   \n",
       "41                          I Am Legend                         Interstellar   \n",
       "42               No Country for Old Men                       Shutter Island   \n",
       "43                              Gravity             The Pursuit of Happyness   \n",
       "44         Rogue One: A Star Wars Story  The Curious Case of Benjamin Button   \n",
       "\n",
       "                                  label  \n",
       "0                           Cloud Atlas  \n",
       "1                        Shutter Island  \n",
       "2   The Curious Case of Benjamin Button  \n",
       "3          Rogue One: A Star Wars Story  \n",
       "4                           The Martian  \n",
       "5                           Cloud Atlas  \n",
       "6                          Interstellar  \n",
       "7                No Country for Old Men  \n",
       "8   The Curious Case of Benjamin Button  \n",
       "9                           I Am Legend  \n",
       "10                      The Truman Show  \n",
       "11         Rogue One: A Star Wars Story  \n",
       "12         Rogue One: A Star Wars Story  \n",
       "13                          Cloud Atlas  \n",
       "14                          The Martian  \n",
       "15                          The Martian  \n",
       "16                         Interstellar  \n",
       "17  The Curious Case of Benjamin Button  \n",
       "18                         Interstellar  \n",
       "19             The Pursuit of Happyness  \n",
       "20                         Interstellar  \n",
       "21                          I Am Legend  \n",
       "22                          Cloud Atlas  \n",
       "23                         Interstellar  \n",
       "24                          The Martian  \n",
       "25                          I Am Legend  \n",
       "26                      The Truman Show  \n",
       "27                              Gravity  \n",
       "28                       Shutter Island  \n",
       "29             The Pursuit of Happyness  \n",
       "30         Rogue One: A Star Wars Story  \n",
       "31                       Shutter Island  \n",
       "32                       Shutter Island  \n",
       "33                          The Martian  \n",
       "34         Rogue One: A Star Wars Story  \n",
       "35                          Cloud Atlas  \n",
       "36         Rogue One: A Star Wars Story  \n",
       "37                         Interstellar  \n",
       "38               No Country for Old Men  \n",
       "39                      The Truman Show  \n",
       "40                       Shutter Island  \n",
       "41                         Interstellar  \n",
       "42                       Shutter Island  \n",
       "43             The Pursuit of Happyness  \n",
       "44         Rogue One: A Star Wars Story  "
      ]
     },
     "execution_count": 23,
     "metadata": {},
     "output_type": "execute_result"
    }
   ],
   "source": [
    "df = pd.read_csv('my_rankings.csv')\n",
    "df"
   ]
  },
  {
   "cell_type": "markdown",
   "id": "18a47134",
   "metadata": {},
   "source": [
    "## 2. Appying Bradley-Terry model to the dataset"
   ]
  },
  {
   "cell_type": "code",
   "execution_count": 24,
   "id": "c093ae2d",
   "metadata": {},
   "outputs": [
    {
     "data": {
      "text/html": [
       "<div>\n",
       "<style scoped>\n",
       "    .dataframe tbody tr th:only-of-type {\n",
       "        vertical-align: middle;\n",
       "    }\n",
       "\n",
       "    .dataframe tbody tr th {\n",
       "        vertical-align: top;\n",
       "    }\n",
       "\n",
       "    .dataframe thead th {\n",
       "        text-align: right;\n",
       "    }\n",
       "</style>\n",
       "<table border=\"1\" class=\"dataframe\">\n",
       "  <thead>\n",
       "    <tr style=\"text-align: right;\">\n",
       "      <th></th>\n",
       "      <th>movie</th>\n",
       "      <th>bt</th>\n",
       "      <th>bt_rank</th>\n",
       "    </tr>\n",
       "  </thead>\n",
       "  <tbody>\n",
       "    <tr>\n",
       "      <th>0</th>\n",
       "      <td>Cloud Atlas</td>\n",
       "      <td>0.1526</td>\n",
       "      <td>3.0000</td>\n",
       "    </tr>\n",
       "    <tr>\n",
       "      <th>1</th>\n",
       "      <td>Gravity</td>\n",
       "      <td>0.0064</td>\n",
       "      <td>11.0000</td>\n",
       "    </tr>\n",
       "    <tr>\n",
       "      <th>2</th>\n",
       "      <td>I Am Legend</td>\n",
       "      <td>0.0944</td>\n",
       "      <td>5.0000</td>\n",
       "    </tr>\n",
       "    <tr>\n",
       "      <th>3</th>\n",
       "      <td>Interstellar</td>\n",
       "      <td>0.2204</td>\n",
       "      <td>1.0000</td>\n",
       "    </tr>\n",
       "    <tr>\n",
       "      <th>4</th>\n",
       "      <td>No Country for Old Men</td>\n",
       "      <td>0.0257</td>\n",
       "      <td>10.0000</td>\n",
       "    </tr>\n",
       "    <tr>\n",
       "      <th>5</th>\n",
       "      <td>Rogue One: A Star Wars Story</td>\n",
       "      <td>0.1874</td>\n",
       "      <td>2.0000</td>\n",
       "    </tr>\n",
       "    <tr>\n",
       "      <th>6</th>\n",
       "      <td>Shutter Island</td>\n",
       "      <td>0.1034</td>\n",
       "      <td>4.0000</td>\n",
       "    </tr>\n",
       "    <tr>\n",
       "      <th>7</th>\n",
       "      <td>The Covenant</td>\n",
       "      <td>0.0000</td>\n",
       "      <td>12.0000</td>\n",
       "    </tr>\n",
       "    <tr>\n",
       "      <th>8</th>\n",
       "      <td>The Curious Case of Benjamin Button</td>\n",
       "      <td>0.0480</td>\n",
       "      <td>7.0000</td>\n",
       "    </tr>\n",
       "    <tr>\n",
       "      <th>9</th>\n",
       "      <td>The Martian</td>\n",
       "      <td>0.0728</td>\n",
       "      <td>6.0000</td>\n",
       "    </tr>\n",
       "    <tr>\n",
       "      <th>10</th>\n",
       "      <td>The Pursuit of Happyness</td>\n",
       "      <td>0.0478</td>\n",
       "      <td>8.0000</td>\n",
       "    </tr>\n",
       "    <tr>\n",
       "      <th>11</th>\n",
       "      <td>The Truman Show</td>\n",
       "      <td>0.0412</td>\n",
       "      <td>9.0000</td>\n",
       "    </tr>\n",
       "  </tbody>\n",
       "</table>\n",
       "</div>"
      ],
      "text/plain": [
       "                                  movie     bt  bt_rank\n",
       "0                           Cloud Atlas 0.1526   3.0000\n",
       "1                               Gravity 0.0064  11.0000\n",
       "2                           I Am Legend 0.0944   5.0000\n",
       "3                          Interstellar 0.2204   1.0000\n",
       "4                No Country for Old Men 0.0257  10.0000\n",
       "5          Rogue One: A Star Wars Story 0.1874   2.0000\n",
       "6                        Shutter Island 0.1034   4.0000\n",
       "7                          The Covenant 0.0000  12.0000\n",
       "8   The Curious Case of Benjamin Button 0.0480   7.0000\n",
       "9                           The Martian 0.0728   6.0000\n",
       "10             The Pursuit of Happyness 0.0478   8.0000\n",
       "11                      The Truman Show 0.0412   9.0000"
      ]
     },
     "execution_count": 24,
     "metadata": {},
     "output_type": "execute_result"
    }
   ],
   "source": [
    "agg_bt = BradleyTerry(n_iter=100).fit_predict(df)\n",
    "\n",
    "df_agg = pd.DataFrame({'bt': agg_bt.values, 'bt_rank': agg_bt.rank(ascending=False)}).reset_index()\n",
    "df_agg.rename(columns={'index': 'movie'}, inplace=True)\n",
    "\n",
    "df_agg\n"
   ]
  },
  {
   "cell_type": "code",
   "execution_count": 25,
   "id": "2efeffac",
   "metadata": {},
   "outputs": [
    {
     "data": {
      "text/html": [
       "<div>\n",
       "<style scoped>\n",
       "    .dataframe tbody tr th:only-of-type {\n",
       "        vertical-align: middle;\n",
       "    }\n",
       "\n",
       "    .dataframe tbody tr th {\n",
       "        vertical-align: top;\n",
       "    }\n",
       "\n",
       "    .dataframe thead th {\n",
       "        text-align: right;\n",
       "    }\n",
       "</style>\n",
       "<table border=\"1\" class=\"dataframe\">\n",
       "  <thead>\n",
       "    <tr style=\"text-align: right;\">\n",
       "      <th></th>\n",
       "      <th>movie</th>\n",
       "      <th>rating</th>\n",
       "      <th>rank</th>\n",
       "    </tr>\n",
       "  </thead>\n",
       "  <tbody>\n",
       "    <tr>\n",
       "      <th>0</th>\n",
       "      <td>Cloud Atlas</td>\n",
       "      <td>7.4000</td>\n",
       "      <td>11.0000</td>\n",
       "    </tr>\n",
       "    <tr>\n",
       "      <th>1</th>\n",
       "      <td>Gravity</td>\n",
       "      <td>7.7000</td>\n",
       "      <td>9.0000</td>\n",
       "    </tr>\n",
       "    <tr>\n",
       "      <th>2</th>\n",
       "      <td>I Am Legend</td>\n",
       "      <td>7.2000</td>\n",
       "      <td>12.0000</td>\n",
       "    </tr>\n",
       "    <tr>\n",
       "      <th>3</th>\n",
       "      <td>Interstellar</td>\n",
       "      <td>8.7000</td>\n",
       "      <td>1.0000</td>\n",
       "    </tr>\n",
       "    <tr>\n",
       "      <th>4</th>\n",
       "      <td>No Country for Old Men</td>\n",
       "      <td>8.2000</td>\n",
       "      <td>3.0000</td>\n",
       "    </tr>\n",
       "    <tr>\n",
       "      <th>5</th>\n",
       "      <td>Rogue One: A Star Wars Story</td>\n",
       "      <td>7.8000</td>\n",
       "      <td>7.5000</td>\n",
       "    </tr>\n",
       "    <tr>\n",
       "      <th>6</th>\n",
       "      <td>Shutter Island</td>\n",
       "      <td>8.2000</td>\n",
       "      <td>3.0000</td>\n",
       "    </tr>\n",
       "    <tr>\n",
       "      <th>7</th>\n",
       "      <td>The Covenant</td>\n",
       "      <td>7.5000</td>\n",
       "      <td>10.0000</td>\n",
       "    </tr>\n",
       "    <tr>\n",
       "      <th>8</th>\n",
       "      <td>The Curious Case of Benjamin Button</td>\n",
       "      <td>7.8000</td>\n",
       "      <td>7.5000</td>\n",
       "    </tr>\n",
       "    <tr>\n",
       "      <th>9</th>\n",
       "      <td>The Martian</td>\n",
       "      <td>8.0000</td>\n",
       "      <td>5.5000</td>\n",
       "    </tr>\n",
       "    <tr>\n",
       "      <th>10</th>\n",
       "      <td>The Pursuit of Happyness</td>\n",
       "      <td>8.0000</td>\n",
       "      <td>5.5000</td>\n",
       "    </tr>\n",
       "    <tr>\n",
       "      <th>11</th>\n",
       "      <td>The Truman Show</td>\n",
       "      <td>8.2000</td>\n",
       "      <td>3.0000</td>\n",
       "    </tr>\n",
       "  </tbody>\n",
       "</table>\n",
       "</div>"
      ],
      "text/plain": [
       "                                  movie  rating    rank\n",
       "0                           Cloud Atlas  7.4000 11.0000\n",
       "1                               Gravity  7.7000  9.0000\n",
       "2                           I Am Legend  7.2000 12.0000\n",
       "3                          Interstellar  8.7000  1.0000\n",
       "4                No Country for Old Men  8.2000  3.0000\n",
       "5          Rogue One: A Star Wars Story  7.8000  7.5000\n",
       "6                        Shutter Island  8.2000  3.0000\n",
       "7                          The Covenant  7.5000 10.0000\n",
       "8   The Curious Case of Benjamin Button  7.8000  7.5000\n",
       "9                           The Martian  8.0000  5.5000\n",
       "10             The Pursuit of Happyness  8.0000  5.5000\n",
       "11                      The Truman Show  8.2000  3.0000"
      ]
     },
     "execution_count": 25,
     "metadata": {},
     "output_type": "execute_result"
    }
   ],
   "source": [
    "imdb_ratings = pd.DataFrame({'movie': movies_imdb.keys(), \n",
    "                             'rating': movies_imdb.values(), \n",
    "                             'rank': pd.Series(movies_imdb.values()).rank(ascending=False)})\n",
    "imdb_ratings\n"
   ]
  },
  {
   "cell_type": "markdown",
   "id": "78b6ed34",
   "metadata": {},
   "source": [
    "## 3. Spearman's $\\rho$ between the obtained ranking and IMDb ranking"
   ]
  },
  {
   "cell_type": "code",
   "execution_count": 44,
   "id": "29356f61",
   "metadata": {},
   "outputs": [
    {
     "name": "stdout",
     "output_type": "stream",
     "text": [
      "0.1378\n"
     ]
    }
   ],
   "source": [
    "res = stats.spearmanr(imdb_ratings['rank'], df_agg['bt_rank'])\n",
    "print(f'{res.correlation:.4}')\n"
   ]
  },
  {
   "cell_type": "markdown",
   "id": "e72f457e",
   "metadata": {},
   "source": [
    "## 4. Results\n",
    "\n",
    "The IMDb ranking of the listed movies does not correspond to the personal preferences :)\n"
   ]
  },
  {
   "cell_type": "markdown",
   "id": "8e114762",
   "metadata": {},
   "source": [
    "## 5. Estimating movie scores using Bootstrap"
   ]
  },
  {
   "cell_type": "code",
   "execution_count": 34,
   "id": "5328dc71",
   "metadata": {
    "scrolled": false
   },
   "outputs": [],
   "source": [
    "BOOTSTRAP_ROUNDS = 1000\n",
    "bs_res = [] # for storing k results for each movie\n",
    "\n",
    "k = 0 # in some rare cases BT model does not return number_of_movies values, causing an error\n",
    "      # we will not keep these values (~5 cases per 1000)\n",
    "    \n",
    "while k < BOOTSTRAP_ROUNDS:\n",
    "    df_sample = df.sample(len(df), replace=True)\n",
    "\n",
    "    agg_bt = BradleyTerry(n_iter=100).fit_predict(df_sample)\n",
    "    agg_bt = dict(sorted(dict(agg_bt).items()))\n",
    "    \n",
    "    if len(list(agg_bt.values())) == len(movies_imdb):\n",
    "        bs_res.append(list(agg_bt.values()))\n",
    "        k += 1\n",
    "        \n",
    "bs_res = pd.DataFrame(bs_res)\n",
    "bs_res.columns = movies_imdb.keys()\n"
   ]
  },
  {
   "cell_type": "code",
   "execution_count": 35,
   "id": "648e5279",
   "metadata": {},
   "outputs": [
    {
     "data": {
      "text/html": [
       "<div>\n",
       "<style scoped>\n",
       "    .dataframe tbody tr th:only-of-type {\n",
       "        vertical-align: middle;\n",
       "    }\n",
       "\n",
       "    .dataframe tbody tr th {\n",
       "        vertical-align: top;\n",
       "    }\n",
       "\n",
       "    .dataframe thead th {\n",
       "        text-align: right;\n",
       "    }\n",
       "</style>\n",
       "<table border=\"1\" class=\"dataframe\">\n",
       "  <thead>\n",
       "    <tr style=\"text-align: right;\">\n",
       "      <th></th>\n",
       "      <th>Cloud Atlas</th>\n",
       "      <th>Gravity</th>\n",
       "      <th>I Am Legend</th>\n",
       "      <th>Interstellar</th>\n",
       "      <th>No Country for Old Men</th>\n",
       "      <th>Rogue One: A Star Wars Story</th>\n",
       "      <th>Shutter Island</th>\n",
       "      <th>The Covenant</th>\n",
       "      <th>The Curious Case of Benjamin Button</th>\n",
       "      <th>The Martian</th>\n",
       "      <th>The Pursuit of Happyness</th>\n",
       "      <th>The Truman Show</th>\n",
       "    </tr>\n",
       "  </thead>\n",
       "  <tbody>\n",
       "    <tr>\n",
       "      <th>0</th>\n",
       "      <td>0.0841</td>\n",
       "      <td>0.0128</td>\n",
       "      <td>0.1817</td>\n",
       "      <td>0.2159</td>\n",
       "      <td>0.0330</td>\n",
       "      <td>0.1857</td>\n",
       "      <td>0.0863</td>\n",
       "      <td>0.0000</td>\n",
       "      <td>0.0222</td>\n",
       "      <td>0.0899</td>\n",
       "      <td>0.0673</td>\n",
       "      <td>0.0210</td>\n",
       "    </tr>\n",
       "    <tr>\n",
       "      <th>1</th>\n",
       "      <td>0.1200</td>\n",
       "      <td>0.0000</td>\n",
       "      <td>0.1412</td>\n",
       "      <td>0.2154</td>\n",
       "      <td>0.0475</td>\n",
       "      <td>0.1865</td>\n",
       "      <td>0.1216</td>\n",
       "      <td>0.0000</td>\n",
       "      <td>0.0422</td>\n",
       "      <td>0.0442</td>\n",
       "      <td>0.0469</td>\n",
       "      <td>0.0345</td>\n",
       "    </tr>\n",
       "    <tr>\n",
       "      <th>2</th>\n",
       "      <td>0.1380</td>\n",
       "      <td>0.0000</td>\n",
       "      <td>0.0809</td>\n",
       "      <td>0.2036</td>\n",
       "      <td>0.0503</td>\n",
       "      <td>0.1219</td>\n",
       "      <td>0.1351</td>\n",
       "      <td>0.0000</td>\n",
       "      <td>0.0747</td>\n",
       "      <td>0.0910</td>\n",
       "      <td>0.0540</td>\n",
       "      <td>0.0506</td>\n",
       "    </tr>\n",
       "    <tr>\n",
       "      <th>3</th>\n",
       "      <td>0.1563</td>\n",
       "      <td>0.0000</td>\n",
       "      <td>0.1100</td>\n",
       "      <td>0.2145</td>\n",
       "      <td>0.0764</td>\n",
       "      <td>0.1860</td>\n",
       "      <td>0.1311</td>\n",
       "      <td>0.0000</td>\n",
       "      <td>0.0253</td>\n",
       "      <td>0.0558</td>\n",
       "      <td>0.0000</td>\n",
       "      <td>0.0445</td>\n",
       "    </tr>\n",
       "    <tr>\n",
       "      <th>4</th>\n",
       "      <td>0.1539</td>\n",
       "      <td>0.0187</td>\n",
       "      <td>0.0826</td>\n",
       "      <td>0.1893</td>\n",
       "      <td>0.0393</td>\n",
       "      <td>0.1662</td>\n",
       "      <td>0.0650</td>\n",
       "      <td>0.0000</td>\n",
       "      <td>0.0488</td>\n",
       "      <td>0.0686</td>\n",
       "      <td>0.0482</td>\n",
       "      <td>0.1194</td>\n",
       "    </tr>\n",
       "    <tr>\n",
       "      <th>...</th>\n",
       "      <td>...</td>\n",
       "      <td>...</td>\n",
       "      <td>...</td>\n",
       "      <td>...</td>\n",
       "      <td>...</td>\n",
       "      <td>...</td>\n",
       "      <td>...</td>\n",
       "      <td>...</td>\n",
       "      <td>...</td>\n",
       "      <td>...</td>\n",
       "      <td>...</td>\n",
       "      <td>...</td>\n",
       "    </tr>\n",
       "    <tr>\n",
       "      <th>995</th>\n",
       "      <td>0.1435</td>\n",
       "      <td>0.0070</td>\n",
       "      <td>0.1383</td>\n",
       "      <td>0.2126</td>\n",
       "      <td>0.0000</td>\n",
       "      <td>0.1646</td>\n",
       "      <td>0.1345</td>\n",
       "      <td>0.0000</td>\n",
       "      <td>0.0786</td>\n",
       "      <td>0.0856</td>\n",
       "      <td>0.0000</td>\n",
       "      <td>0.0353</td>\n",
       "    </tr>\n",
       "    <tr>\n",
       "      <th>996</th>\n",
       "      <td>0.1038</td>\n",
       "      <td>0.0054</td>\n",
       "      <td>0.1622</td>\n",
       "      <td>0.1944</td>\n",
       "      <td>0.0799</td>\n",
       "      <td>0.1618</td>\n",
       "      <td>0.1142</td>\n",
       "      <td>0.0000</td>\n",
       "      <td>0.0249</td>\n",
       "      <td>0.1020</td>\n",
       "      <td>0.0366</td>\n",
       "      <td>0.0148</td>\n",
       "    </tr>\n",
       "    <tr>\n",
       "      <th>997</th>\n",
       "      <td>0.1143</td>\n",
       "      <td>0.0049</td>\n",
       "      <td>0.1531</td>\n",
       "      <td>0.2253</td>\n",
       "      <td>0.0090</td>\n",
       "      <td>0.1681</td>\n",
       "      <td>0.1567</td>\n",
       "      <td>0.0000</td>\n",
       "      <td>0.0606</td>\n",
       "      <td>0.0550</td>\n",
       "      <td>0.0380</td>\n",
       "      <td>0.0149</td>\n",
       "    </tr>\n",
       "    <tr>\n",
       "      <th>998</th>\n",
       "      <td>0.1251</td>\n",
       "      <td>0.0054</td>\n",
       "      <td>0.0899</td>\n",
       "      <td>0.2250</td>\n",
       "      <td>0.0566</td>\n",
       "      <td>0.1753</td>\n",
       "      <td>0.1277</td>\n",
       "      <td>0.0000</td>\n",
       "      <td>0.0456</td>\n",
       "      <td>0.0578</td>\n",
       "      <td>0.0310</td>\n",
       "      <td>0.0605</td>\n",
       "    </tr>\n",
       "    <tr>\n",
       "      <th>999</th>\n",
       "      <td>0.1468</td>\n",
       "      <td>0.0000</td>\n",
       "      <td>0.0000</td>\n",
       "      <td>0.2491</td>\n",
       "      <td>0.0245</td>\n",
       "      <td>0.2159</td>\n",
       "      <td>0.1192</td>\n",
       "      <td>0.0000</td>\n",
       "      <td>0.0539</td>\n",
       "      <td>0.1061</td>\n",
       "      <td>0.0469</td>\n",
       "      <td>0.0377</td>\n",
       "    </tr>\n",
       "  </tbody>\n",
       "</table>\n",
       "<p>1000 rows × 12 columns</p>\n",
       "</div>"
      ],
      "text/plain": [
       "     Cloud Atlas  Gravity  I Am Legend  Interstellar  No Country for Old Men  \\\n",
       "0         0.0841   0.0128       0.1817        0.2159                  0.0330   \n",
       "1         0.1200   0.0000       0.1412        0.2154                  0.0475   \n",
       "2         0.1380   0.0000       0.0809        0.2036                  0.0503   \n",
       "3         0.1563   0.0000       0.1100        0.2145                  0.0764   \n",
       "4         0.1539   0.0187       0.0826        0.1893                  0.0393   \n",
       "..           ...      ...          ...           ...                     ...   \n",
       "995       0.1435   0.0070       0.1383        0.2126                  0.0000   \n",
       "996       0.1038   0.0054       0.1622        0.1944                  0.0799   \n",
       "997       0.1143   0.0049       0.1531        0.2253                  0.0090   \n",
       "998       0.1251   0.0054       0.0899        0.2250                  0.0566   \n",
       "999       0.1468   0.0000       0.0000        0.2491                  0.0245   \n",
       "\n",
       "     Rogue One: A Star Wars Story  Shutter Island  The Covenant  \\\n",
       "0                          0.1857          0.0863        0.0000   \n",
       "1                          0.1865          0.1216        0.0000   \n",
       "2                          0.1219          0.1351        0.0000   \n",
       "3                          0.1860          0.1311        0.0000   \n",
       "4                          0.1662          0.0650        0.0000   \n",
       "..                            ...             ...           ...   \n",
       "995                        0.1646          0.1345        0.0000   \n",
       "996                        0.1618          0.1142        0.0000   \n",
       "997                        0.1681          0.1567        0.0000   \n",
       "998                        0.1753          0.1277        0.0000   \n",
       "999                        0.2159          0.1192        0.0000   \n",
       "\n",
       "     The Curious Case of Benjamin Button  The Martian  \\\n",
       "0                                 0.0222       0.0899   \n",
       "1                                 0.0422       0.0442   \n",
       "2                                 0.0747       0.0910   \n",
       "3                                 0.0253       0.0558   \n",
       "4                                 0.0488       0.0686   \n",
       "..                                   ...          ...   \n",
       "995                               0.0786       0.0856   \n",
       "996                               0.0249       0.1020   \n",
       "997                               0.0606       0.0550   \n",
       "998                               0.0456       0.0578   \n",
       "999                               0.0539       0.1061   \n",
       "\n",
       "     The Pursuit of Happyness  The Truman Show  \n",
       "0                      0.0673           0.0210  \n",
       "1                      0.0469           0.0345  \n",
       "2                      0.0540           0.0506  \n",
       "3                      0.0000           0.0445  \n",
       "4                      0.0482           0.1194  \n",
       "..                        ...              ...  \n",
       "995                    0.0000           0.0353  \n",
       "996                    0.0366           0.0148  \n",
       "997                    0.0380           0.0149  \n",
       "998                    0.0310           0.0605  \n",
       "999                    0.0469           0.0377  \n",
       "\n",
       "[1000 rows x 12 columns]"
      ]
     },
     "execution_count": 35,
     "metadata": {},
     "output_type": "execute_result"
    }
   ],
   "source": [
    "bs_res"
   ]
  },
  {
   "cell_type": "code",
   "execution_count": 36,
   "id": "97693039",
   "metadata": {},
   "outputs": [
    {
     "data": {
      "text/html": [
       "<div>\n",
       "<style scoped>\n",
       "    .dataframe tbody tr th:only-of-type {\n",
       "        vertical-align: middle;\n",
       "    }\n",
       "\n",
       "    .dataframe tbody tr th {\n",
       "        vertical-align: top;\n",
       "    }\n",
       "\n",
       "    .dataframe thead th {\n",
       "        text-align: right;\n",
       "    }\n",
       "</style>\n",
       "<table border=\"1\" class=\"dataframe\">\n",
       "  <thead>\n",
       "    <tr style=\"text-align: right;\">\n",
       "      <th></th>\n",
       "      <th>Movie</th>\n",
       "      <th>2.5% percentile</th>\n",
       "      <th>97.5% percentile</th>\n",
       "    </tr>\n",
       "  </thead>\n",
       "  <tbody>\n",
       "    <tr>\n",
       "      <th>0</th>\n",
       "      <td>Cloud Atlas</td>\n",
       "      <td>0.0035</td>\n",
       "      <td>0.2076</td>\n",
       "    </tr>\n",
       "    <tr>\n",
       "      <th>1</th>\n",
       "      <td>Gravity</td>\n",
       "      <td>0.0000</td>\n",
       "      <td>0.2074</td>\n",
       "    </tr>\n",
       "    <tr>\n",
       "      <th>2</th>\n",
       "      <td>I Am Legend</td>\n",
       "      <td>0.0000</td>\n",
       "      <td>0.1855</td>\n",
       "    </tr>\n",
       "    <tr>\n",
       "      <th>3</th>\n",
       "      <td>Interstellar</td>\n",
       "      <td>0.0000</td>\n",
       "      <td>0.2067</td>\n",
       "    </tr>\n",
       "    <tr>\n",
       "      <th>4</th>\n",
       "      <td>No Country for Old Men</td>\n",
       "      <td>0.0051</td>\n",
       "      <td>0.1830</td>\n",
       "    </tr>\n",
       "    <tr>\n",
       "      <th>5</th>\n",
       "      <td>Rogue One: A Star Wars Story</td>\n",
       "      <td>0.0048</td>\n",
       "      <td>0.1909</td>\n",
       "    </tr>\n",
       "    <tr>\n",
       "      <th>6</th>\n",
       "      <td>Shutter Island</td>\n",
       "      <td>0.0000</td>\n",
       "      <td>0.1887</td>\n",
       "    </tr>\n",
       "    <tr>\n",
       "      <th>7</th>\n",
       "      <td>The Covenant</td>\n",
       "      <td>0.0032</td>\n",
       "      <td>0.2356</td>\n",
       "    </tr>\n",
       "    <tr>\n",
       "      <th>8</th>\n",
       "      <td>The Curious Case of Benjamin Button</td>\n",
       "      <td>0.0032</td>\n",
       "      <td>0.1904</td>\n",
       "    </tr>\n",
       "    <tr>\n",
       "      <th>9</th>\n",
       "      <td>The Martian</td>\n",
       "      <td>0.0000</td>\n",
       "      <td>0.2341</td>\n",
       "    </tr>\n",
       "    <tr>\n",
       "      <th>10</th>\n",
       "      <td>The Pursuit of Happyness</td>\n",
       "      <td>0.0000</td>\n",
       "      <td>0.1845</td>\n",
       "    </tr>\n",
       "    <tr>\n",
       "      <th>11</th>\n",
       "      <td>The Truman Show</td>\n",
       "      <td>0.0000</td>\n",
       "      <td>0.2238</td>\n",
       "    </tr>\n",
       "  </tbody>\n",
       "</table>\n",
       "</div>"
      ],
      "text/plain": [
       "                                  Movie  2.5% percentile  97.5% percentile\n",
       "0                           Cloud Atlas           0.0035            0.2076\n",
       "1                               Gravity           0.0000            0.2074\n",
       "2                           I Am Legend           0.0000            0.1855\n",
       "3                          Interstellar           0.0000            0.2067\n",
       "4                No Country for Old Men           0.0051            0.1830\n",
       "5          Rogue One: A Star Wars Story           0.0048            0.1909\n",
       "6                        Shutter Island           0.0000            0.1887\n",
       "7                          The Covenant           0.0032            0.2356\n",
       "8   The Curious Case of Benjamin Button           0.0032            0.1904\n",
       "9                           The Martian           0.0000            0.2341\n",
       "10             The Pursuit of Happyness           0.0000            0.1845\n",
       "11                      The Truman Show           0.0000            0.2238"
      ]
     },
     "execution_count": 36,
     "metadata": {},
     "output_type": "execute_result"
    }
   ],
   "source": [
    "bs_df = pd.DataFrame({'Movie': movies_imdb.keys(), \n",
    "                      '2.5% percentile': [0]*len(movies_imdb), \n",
    "                      '97.5% percentile': [0]*len(movies_imdb)})\n",
    "\n",
    "for i, movie in enumerate(movies_imdb.keys()):\n",
    "    bs_df.loc[i, '2.5% percentile'], bs_df.loc[i, '97.5% percentile'] = np.percentile(bs_res.iloc[i,:], [2.5, 97.5])\n",
    "\n",
    "bs_df"
   ]
  },
  {
   "cell_type": "code",
   "execution_count": 41,
   "id": "ba87f8fd",
   "metadata": {},
   "outputs": [
    {
     "data": {
      "application/vnd.plotly.v1+json": {
       "config": {
        "plotlyServerURL": "https://plot.ly"
       },
       "data": [
        {
         "error_y": {
          "array": [
           0.041745154541270424,
           0.03848115752827663,
           0.06626393861797394,
           0.06775989496663397,
           0.0963113287945678,
           0.07544104780240701,
           0.0747846422802854,
           0.0669585083586637,
           0.07132494261710193,
           0.05710154217988744,
           0.02379489936520804,
           0
          ],
          "arrayminus": [
           0.039497208341266854,
           0.0367170862081832,
           0.08647191838682936,
           0.05831256066985133,
           0.09231336537280233,
           0.05172730180051566,
           0.0488061948694625,
           0.04486446517371645,
           0.039894757360369085,
           0.023700719072368495,
           0.005672879565900181,
           0
          ]
         },
         "hovertemplate": "model=%{x}<br>rating=%{y}<br>rating_rounded=%{text}<extra></extra>",
         "legendgroup": "",
         "marker": {
          "color": "#636efa",
          "symbol": "circle"
         },
         "mode": "markers+text",
         "name": "",
         "orientation": "v",
         "showlegend": false,
         "text": [
          0.21,
          0.18,
          0.15,
          0.1,
          0.09,
          0.07,
          0.05,
          0.04,
          0.04,
          0.02,
          0.01,
          0
         ],
         "type": "scatter",
         "x": [
          "Interstellar",
          "Rogue One: A Star Wars Story",
          "Cloud Atlas",
          "Shutter Island",
          "I Am Legend",
          "The Martian",
          "The Curious Case of Benjamin Button",
          "The Pursuit of Happyness",
          "The Truman Show",
          "No Country for Old Men",
          "Gravity",
          "The Covenant"
         ],
         "xaxis": "x",
         "y": [
          0.2112770389267868,
          0.183364158375928,
          0.15427806024215773,
          0.10219230579591611,
          0.09231336537280233,
          0.07173332793036882,
          0.0488061948694625,
          0.04486446517371645,
          0.039894757360369085,
          0.023700719072368495,
          0.005672879565900181,
          0
         ],
         "yaxis": "y"
        }
       ],
       "layout": {
        "legend": {
         "tracegroupgap": 0
        },
        "template": {
         "data": {
          "bar": [
           {
            "error_x": {
             "color": "#2a3f5f"
            },
            "error_y": {
             "color": "#2a3f5f"
            },
            "marker": {
             "line": {
              "color": "#E5ECF6",
              "width": 0.5
             },
             "pattern": {
              "fillmode": "overlay",
              "size": 10,
              "solidity": 0.2
             }
            },
            "type": "bar"
           }
          ],
          "barpolar": [
           {
            "marker": {
             "line": {
              "color": "#E5ECF6",
              "width": 0.5
             },
             "pattern": {
              "fillmode": "overlay",
              "size": 10,
              "solidity": 0.2
             }
            },
            "type": "barpolar"
           }
          ],
          "carpet": [
           {
            "aaxis": {
             "endlinecolor": "#2a3f5f",
             "gridcolor": "white",
             "linecolor": "white",
             "minorgridcolor": "white",
             "startlinecolor": "#2a3f5f"
            },
            "baxis": {
             "endlinecolor": "#2a3f5f",
             "gridcolor": "white",
             "linecolor": "white",
             "minorgridcolor": "white",
             "startlinecolor": "#2a3f5f"
            },
            "type": "carpet"
           }
          ],
          "choropleth": [
           {
            "colorbar": {
             "outlinewidth": 0,
             "ticks": ""
            },
            "type": "choropleth"
           }
          ],
          "contour": [
           {
            "colorbar": {
             "outlinewidth": 0,
             "ticks": ""
            },
            "colorscale": [
             [
              0,
              "#0d0887"
             ],
             [
              0.1111111111111111,
              "#46039f"
             ],
             [
              0.2222222222222222,
              "#7201a8"
             ],
             [
              0.3333333333333333,
              "#9c179e"
             ],
             [
              0.4444444444444444,
              "#bd3786"
             ],
             [
              0.5555555555555556,
              "#d8576b"
             ],
             [
              0.6666666666666666,
              "#ed7953"
             ],
             [
              0.7777777777777778,
              "#fb9f3a"
             ],
             [
              0.8888888888888888,
              "#fdca26"
             ],
             [
              1,
              "#f0f921"
             ]
            ],
            "type": "contour"
           }
          ],
          "contourcarpet": [
           {
            "colorbar": {
             "outlinewidth": 0,
             "ticks": ""
            },
            "type": "contourcarpet"
           }
          ],
          "heatmap": [
           {
            "colorbar": {
             "outlinewidth": 0,
             "ticks": ""
            },
            "colorscale": [
             [
              0,
              "#0d0887"
             ],
             [
              0.1111111111111111,
              "#46039f"
             ],
             [
              0.2222222222222222,
              "#7201a8"
             ],
             [
              0.3333333333333333,
              "#9c179e"
             ],
             [
              0.4444444444444444,
              "#bd3786"
             ],
             [
              0.5555555555555556,
              "#d8576b"
             ],
             [
              0.6666666666666666,
              "#ed7953"
             ],
             [
              0.7777777777777778,
              "#fb9f3a"
             ],
             [
              0.8888888888888888,
              "#fdca26"
             ],
             [
              1,
              "#f0f921"
             ]
            ],
            "type": "heatmap"
           }
          ],
          "heatmapgl": [
           {
            "colorbar": {
             "outlinewidth": 0,
             "ticks": ""
            },
            "colorscale": [
             [
              0,
              "#0d0887"
             ],
             [
              0.1111111111111111,
              "#46039f"
             ],
             [
              0.2222222222222222,
              "#7201a8"
             ],
             [
              0.3333333333333333,
              "#9c179e"
             ],
             [
              0.4444444444444444,
              "#bd3786"
             ],
             [
              0.5555555555555556,
              "#d8576b"
             ],
             [
              0.6666666666666666,
              "#ed7953"
             ],
             [
              0.7777777777777778,
              "#fb9f3a"
             ],
             [
              0.8888888888888888,
              "#fdca26"
             ],
             [
              1,
              "#f0f921"
             ]
            ],
            "type": "heatmapgl"
           }
          ],
          "histogram": [
           {
            "marker": {
             "pattern": {
              "fillmode": "overlay",
              "size": 10,
              "solidity": 0.2
             }
            },
            "type": "histogram"
           }
          ],
          "histogram2d": [
           {
            "colorbar": {
             "outlinewidth": 0,
             "ticks": ""
            },
            "colorscale": [
             [
              0,
              "#0d0887"
             ],
             [
              0.1111111111111111,
              "#46039f"
             ],
             [
              0.2222222222222222,
              "#7201a8"
             ],
             [
              0.3333333333333333,
              "#9c179e"
             ],
             [
              0.4444444444444444,
              "#bd3786"
             ],
             [
              0.5555555555555556,
              "#d8576b"
             ],
             [
              0.6666666666666666,
              "#ed7953"
             ],
             [
              0.7777777777777778,
              "#fb9f3a"
             ],
             [
              0.8888888888888888,
              "#fdca26"
             ],
             [
              1,
              "#f0f921"
             ]
            ],
            "type": "histogram2d"
           }
          ],
          "histogram2dcontour": [
           {
            "colorbar": {
             "outlinewidth": 0,
             "ticks": ""
            },
            "colorscale": [
             [
              0,
              "#0d0887"
             ],
             [
              0.1111111111111111,
              "#46039f"
             ],
             [
              0.2222222222222222,
              "#7201a8"
             ],
             [
              0.3333333333333333,
              "#9c179e"
             ],
             [
              0.4444444444444444,
              "#bd3786"
             ],
             [
              0.5555555555555556,
              "#d8576b"
             ],
             [
              0.6666666666666666,
              "#ed7953"
             ],
             [
              0.7777777777777778,
              "#fb9f3a"
             ],
             [
              0.8888888888888888,
              "#fdca26"
             ],
             [
              1,
              "#f0f921"
             ]
            ],
            "type": "histogram2dcontour"
           }
          ],
          "mesh3d": [
           {
            "colorbar": {
             "outlinewidth": 0,
             "ticks": ""
            },
            "type": "mesh3d"
           }
          ],
          "parcoords": [
           {
            "line": {
             "colorbar": {
              "outlinewidth": 0,
              "ticks": ""
             }
            },
            "type": "parcoords"
           }
          ],
          "pie": [
           {
            "automargin": true,
            "type": "pie"
           }
          ],
          "scatter": [
           {
            "fillpattern": {
             "fillmode": "overlay",
             "size": 10,
             "solidity": 0.2
            },
            "type": "scatter"
           }
          ],
          "scatter3d": [
           {
            "line": {
             "colorbar": {
              "outlinewidth": 0,
              "ticks": ""
             }
            },
            "marker": {
             "colorbar": {
              "outlinewidth": 0,
              "ticks": ""
             }
            },
            "type": "scatter3d"
           }
          ],
          "scattercarpet": [
           {
            "marker": {
             "colorbar": {
              "outlinewidth": 0,
              "ticks": ""
             }
            },
            "type": "scattercarpet"
           }
          ],
          "scattergeo": [
           {
            "marker": {
             "colorbar": {
              "outlinewidth": 0,
              "ticks": ""
             }
            },
            "type": "scattergeo"
           }
          ],
          "scattergl": [
           {
            "marker": {
             "colorbar": {
              "outlinewidth": 0,
              "ticks": ""
             }
            },
            "type": "scattergl"
           }
          ],
          "scattermapbox": [
           {
            "marker": {
             "colorbar": {
              "outlinewidth": 0,
              "ticks": ""
             }
            },
            "type": "scattermapbox"
           }
          ],
          "scatterpolar": [
           {
            "marker": {
             "colorbar": {
              "outlinewidth": 0,
              "ticks": ""
             }
            },
            "type": "scatterpolar"
           }
          ],
          "scatterpolargl": [
           {
            "marker": {
             "colorbar": {
              "outlinewidth": 0,
              "ticks": ""
             }
            },
            "type": "scatterpolargl"
           }
          ],
          "scatterternary": [
           {
            "marker": {
             "colorbar": {
              "outlinewidth": 0,
              "ticks": ""
             }
            },
            "type": "scatterternary"
           }
          ],
          "surface": [
           {
            "colorbar": {
             "outlinewidth": 0,
             "ticks": ""
            },
            "colorscale": [
             [
              0,
              "#0d0887"
             ],
             [
              0.1111111111111111,
              "#46039f"
             ],
             [
              0.2222222222222222,
              "#7201a8"
             ],
             [
              0.3333333333333333,
              "#9c179e"
             ],
             [
              0.4444444444444444,
              "#bd3786"
             ],
             [
              0.5555555555555556,
              "#d8576b"
             ],
             [
              0.6666666666666666,
              "#ed7953"
             ],
             [
              0.7777777777777778,
              "#fb9f3a"
             ],
             [
              0.8888888888888888,
              "#fdca26"
             ],
             [
              1,
              "#f0f921"
             ]
            ],
            "type": "surface"
           }
          ],
          "table": [
           {
            "cells": {
             "fill": {
              "color": "#EBF0F8"
             },
             "line": {
              "color": "white"
             }
            },
            "header": {
             "fill": {
              "color": "#C8D4E3"
             },
             "line": {
              "color": "white"
             }
            },
            "type": "table"
           }
          ]
         },
         "layout": {
          "annotationdefaults": {
           "arrowcolor": "#2a3f5f",
           "arrowhead": 0,
           "arrowwidth": 1
          },
          "autotypenumbers": "strict",
          "coloraxis": {
           "colorbar": {
            "outlinewidth": 0,
            "ticks": ""
           }
          },
          "colorscale": {
           "diverging": [
            [
             0,
             "#8e0152"
            ],
            [
             0.1,
             "#c51b7d"
            ],
            [
             0.2,
             "#de77ae"
            ],
            [
             0.3,
             "#f1b6da"
            ],
            [
             0.4,
             "#fde0ef"
            ],
            [
             0.5,
             "#f7f7f7"
            ],
            [
             0.6,
             "#e6f5d0"
            ],
            [
             0.7,
             "#b8e186"
            ],
            [
             0.8,
             "#7fbc41"
            ],
            [
             0.9,
             "#4d9221"
            ],
            [
             1,
             "#276419"
            ]
           ],
           "sequential": [
            [
             0,
             "#0d0887"
            ],
            [
             0.1111111111111111,
             "#46039f"
            ],
            [
             0.2222222222222222,
             "#7201a8"
            ],
            [
             0.3333333333333333,
             "#9c179e"
            ],
            [
             0.4444444444444444,
             "#bd3786"
            ],
            [
             0.5555555555555556,
             "#d8576b"
            ],
            [
             0.6666666666666666,
             "#ed7953"
            ],
            [
             0.7777777777777778,
             "#fb9f3a"
            ],
            [
             0.8888888888888888,
             "#fdca26"
            ],
            [
             1,
             "#f0f921"
            ]
           ],
           "sequentialminus": [
            [
             0,
             "#0d0887"
            ],
            [
             0.1111111111111111,
             "#46039f"
            ],
            [
             0.2222222222222222,
             "#7201a8"
            ],
            [
             0.3333333333333333,
             "#9c179e"
            ],
            [
             0.4444444444444444,
             "#bd3786"
            ],
            [
             0.5555555555555556,
             "#d8576b"
            ],
            [
             0.6666666666666666,
             "#ed7953"
            ],
            [
             0.7777777777777778,
             "#fb9f3a"
            ],
            [
             0.8888888888888888,
             "#fdca26"
            ],
            [
             1,
             "#f0f921"
            ]
           ]
          },
          "colorway": [
           "#636efa",
           "#EF553B",
           "#00cc96",
           "#ab63fa",
           "#FFA15A",
           "#19d3f3",
           "#FF6692",
           "#B6E880",
           "#FF97FF",
           "#FECB52"
          ],
          "font": {
           "color": "#2a3f5f"
          },
          "geo": {
           "bgcolor": "white",
           "lakecolor": "white",
           "landcolor": "#E5ECF6",
           "showlakes": true,
           "showland": true,
           "subunitcolor": "white"
          },
          "hoverlabel": {
           "align": "left"
          },
          "hovermode": "closest",
          "mapbox": {
           "style": "light"
          },
          "paper_bgcolor": "white",
          "plot_bgcolor": "#E5ECF6",
          "polar": {
           "angularaxis": {
            "gridcolor": "white",
            "linecolor": "white",
            "ticks": ""
           },
           "bgcolor": "#E5ECF6",
           "radialaxis": {
            "gridcolor": "white",
            "linecolor": "white",
            "ticks": ""
           }
          },
          "scene": {
           "xaxis": {
            "backgroundcolor": "#E5ECF6",
            "gridcolor": "white",
            "gridwidth": 2,
            "linecolor": "white",
            "showbackground": true,
            "ticks": "",
            "zerolinecolor": "white"
           },
           "yaxis": {
            "backgroundcolor": "#E5ECF6",
            "gridcolor": "white",
            "gridwidth": 2,
            "linecolor": "white",
            "showbackground": true,
            "ticks": "",
            "zerolinecolor": "white"
           },
           "zaxis": {
            "backgroundcolor": "#E5ECF6",
            "gridcolor": "white",
            "gridwidth": 2,
            "linecolor": "white",
            "showbackground": true,
            "ticks": "",
            "zerolinecolor": "white"
           }
          },
          "shapedefaults": {
           "line": {
            "color": "#2a3f5f"
           }
          },
          "ternary": {
           "aaxis": {
            "gridcolor": "white",
            "linecolor": "white",
            "ticks": ""
           },
           "baxis": {
            "gridcolor": "white",
            "linecolor": "white",
            "ticks": ""
           },
           "bgcolor": "#E5ECF6",
           "caxis": {
            "gridcolor": "white",
            "linecolor": "white",
            "ticks": ""
           }
          },
          "title": {
           "x": 0.05
          },
          "xaxis": {
           "automargin": true,
           "gridcolor": "white",
           "linecolor": "white",
           "ticks": "",
           "title": {
            "standoff": 15
           },
           "zerolinecolor": "white",
           "zerolinewidth": 2
          },
          "yaxis": {
           "automargin": true,
           "gridcolor": "white",
           "linecolor": "white",
           "ticks": "",
           "title": {
            "standoff": 15
           },
           "zerolinecolor": "white",
           "zerolinewidth": 2
          }
         }
        },
        "title": {
         "text": "Bootstrap of Movie Ratings Estimates"
        },
        "xaxis": {
         "anchor": "y",
         "domain": [
          0,
          1
         ],
         "title": {
          "text": "Model"
         }
        },
        "yaxis": {
         "anchor": "x",
         "domain": [
          0,
          1
         ],
         "title": {
          "text": "Rating"
         }
        }
       }
      },
      "text/html": [
       "<div>                            <div id=\"0748a4e9-cead-44c7-9919-9aeb67b36a3d\" class=\"plotly-graph-div\" style=\"height:525px; width:100%;\"></div>            <script type=\"text/javascript\">                require([\"plotly\"], function(Plotly) {                    window.PLOTLYENV=window.PLOTLYENV || {};                                    if (document.getElementById(\"0748a4e9-cead-44c7-9919-9aeb67b36a3d\")) {                    Plotly.newPlot(                        \"0748a4e9-cead-44c7-9919-9aeb67b36a3d\",                        [{\"error_y\":{\"array\":[0.041745154541270424,0.03848115752827663,0.06626393861797394,0.06775989496663397,0.0963113287945678,0.07544104780240701,0.0747846422802854,0.0669585083586637,0.07132494261710193,0.05710154217988744,0.02379489936520804,0.0],\"arrayminus\":[0.039497208341266854,0.0367170862081832,0.08647191838682936,0.05831256066985133,0.09231336537280233,0.05172730180051566,0.0488061948694625,0.04486446517371645,0.039894757360369085,0.023700719072368495,0.005672879565900181,0.0]},\"hovertemplate\":\"model=%{x}<br>rating=%{y}<br>rating_rounded=%{text}<extra></extra>\",\"legendgroup\":\"\",\"marker\":{\"color\":\"#636efa\",\"symbol\":\"circle\"},\"mode\":\"markers+text\",\"name\":\"\",\"orientation\":\"v\",\"showlegend\":false,\"text\":[0.21,0.18,0.15,0.1,0.09,0.07,0.05,0.04,0.04,0.02,0.01,0.0],\"x\":[\"Interstellar\",\"Rogue One: A Star Wars Story\",\"Cloud Atlas\",\"Shutter Island\",\"I Am Legend\",\"The Martian\",\"The Curious Case of Benjamin Button\",\"The Pursuit of Happyness\",\"The Truman Show\",\"No Country for Old Men\",\"Gravity\",\"The Covenant\"],\"xaxis\":\"x\",\"y\":[0.2112770389267868,0.183364158375928,0.15427806024215773,0.10219230579591611,0.09231336537280233,0.07173332793036882,0.0488061948694625,0.04486446517371645,0.039894757360369085,0.023700719072368495,0.005672879565900181,0.0],\"yaxis\":\"y\",\"type\":\"scatter\"}],                        {\"template\":{\"data\":{\"histogram2dcontour\":[{\"type\":\"histogram2dcontour\",\"colorbar\":{\"outlinewidth\":0,\"ticks\":\"\"},\"colorscale\":[[0.0,\"#0d0887\"],[0.1111111111111111,\"#46039f\"],[0.2222222222222222,\"#7201a8\"],[0.3333333333333333,\"#9c179e\"],[0.4444444444444444,\"#bd3786\"],[0.5555555555555556,\"#d8576b\"],[0.6666666666666666,\"#ed7953\"],[0.7777777777777778,\"#fb9f3a\"],[0.8888888888888888,\"#fdca26\"],[1.0,\"#f0f921\"]]}],\"choropleth\":[{\"type\":\"choropleth\",\"colorbar\":{\"outlinewidth\":0,\"ticks\":\"\"}}],\"histogram2d\":[{\"type\":\"histogram2d\",\"colorbar\":{\"outlinewidth\":0,\"ticks\":\"\"},\"colorscale\":[[0.0,\"#0d0887\"],[0.1111111111111111,\"#46039f\"],[0.2222222222222222,\"#7201a8\"],[0.3333333333333333,\"#9c179e\"],[0.4444444444444444,\"#bd3786\"],[0.5555555555555556,\"#d8576b\"],[0.6666666666666666,\"#ed7953\"],[0.7777777777777778,\"#fb9f3a\"],[0.8888888888888888,\"#fdca26\"],[1.0,\"#f0f921\"]]}],\"heatmap\":[{\"type\":\"heatmap\",\"colorbar\":{\"outlinewidth\":0,\"ticks\":\"\"},\"colorscale\":[[0.0,\"#0d0887\"],[0.1111111111111111,\"#46039f\"],[0.2222222222222222,\"#7201a8\"],[0.3333333333333333,\"#9c179e\"],[0.4444444444444444,\"#bd3786\"],[0.5555555555555556,\"#d8576b\"],[0.6666666666666666,\"#ed7953\"],[0.7777777777777778,\"#fb9f3a\"],[0.8888888888888888,\"#fdca26\"],[1.0,\"#f0f921\"]]}],\"heatmapgl\":[{\"type\":\"heatmapgl\",\"colorbar\":{\"outlinewidth\":0,\"ticks\":\"\"},\"colorscale\":[[0.0,\"#0d0887\"],[0.1111111111111111,\"#46039f\"],[0.2222222222222222,\"#7201a8\"],[0.3333333333333333,\"#9c179e\"],[0.4444444444444444,\"#bd3786\"],[0.5555555555555556,\"#d8576b\"],[0.6666666666666666,\"#ed7953\"],[0.7777777777777778,\"#fb9f3a\"],[0.8888888888888888,\"#fdca26\"],[1.0,\"#f0f921\"]]}],\"contourcarpet\":[{\"type\":\"contourcarpet\",\"colorbar\":{\"outlinewidth\":0,\"ticks\":\"\"}}],\"contour\":[{\"type\":\"contour\",\"colorbar\":{\"outlinewidth\":0,\"ticks\":\"\"},\"colorscale\":[[0.0,\"#0d0887\"],[0.1111111111111111,\"#46039f\"],[0.2222222222222222,\"#7201a8\"],[0.3333333333333333,\"#9c179e\"],[0.4444444444444444,\"#bd3786\"],[0.5555555555555556,\"#d8576b\"],[0.6666666666666666,\"#ed7953\"],[0.7777777777777778,\"#fb9f3a\"],[0.8888888888888888,\"#fdca26\"],[1.0,\"#f0f921\"]]}],\"surface\":[{\"type\":\"surface\",\"colorbar\":{\"outlinewidth\":0,\"ticks\":\"\"},\"colorscale\":[[0.0,\"#0d0887\"],[0.1111111111111111,\"#46039f\"],[0.2222222222222222,\"#7201a8\"],[0.3333333333333333,\"#9c179e\"],[0.4444444444444444,\"#bd3786\"],[0.5555555555555556,\"#d8576b\"],[0.6666666666666666,\"#ed7953\"],[0.7777777777777778,\"#fb9f3a\"],[0.8888888888888888,\"#fdca26\"],[1.0,\"#f0f921\"]]}],\"mesh3d\":[{\"type\":\"mesh3d\",\"colorbar\":{\"outlinewidth\":0,\"ticks\":\"\"}}],\"scatter\":[{\"fillpattern\":{\"fillmode\":\"overlay\",\"size\":10,\"solidity\":0.2},\"type\":\"scatter\"}],\"parcoords\":[{\"type\":\"parcoords\",\"line\":{\"colorbar\":{\"outlinewidth\":0,\"ticks\":\"\"}}}],\"scatterpolargl\":[{\"type\":\"scatterpolargl\",\"marker\":{\"colorbar\":{\"outlinewidth\":0,\"ticks\":\"\"}}}],\"bar\":[{\"error_x\":{\"color\":\"#2a3f5f\"},\"error_y\":{\"color\":\"#2a3f5f\"},\"marker\":{\"line\":{\"color\":\"#E5ECF6\",\"width\":0.5},\"pattern\":{\"fillmode\":\"overlay\",\"size\":10,\"solidity\":0.2}},\"type\":\"bar\"}],\"scattergeo\":[{\"type\":\"scattergeo\",\"marker\":{\"colorbar\":{\"outlinewidth\":0,\"ticks\":\"\"}}}],\"scatterpolar\":[{\"type\":\"scatterpolar\",\"marker\":{\"colorbar\":{\"outlinewidth\":0,\"ticks\":\"\"}}}],\"histogram\":[{\"marker\":{\"pattern\":{\"fillmode\":\"overlay\",\"size\":10,\"solidity\":0.2}},\"type\":\"histogram\"}],\"scattergl\":[{\"type\":\"scattergl\",\"marker\":{\"colorbar\":{\"outlinewidth\":0,\"ticks\":\"\"}}}],\"scatter3d\":[{\"type\":\"scatter3d\",\"line\":{\"colorbar\":{\"outlinewidth\":0,\"ticks\":\"\"}},\"marker\":{\"colorbar\":{\"outlinewidth\":0,\"ticks\":\"\"}}}],\"scattermapbox\":[{\"type\":\"scattermapbox\",\"marker\":{\"colorbar\":{\"outlinewidth\":0,\"ticks\":\"\"}}}],\"scatterternary\":[{\"type\":\"scatterternary\",\"marker\":{\"colorbar\":{\"outlinewidth\":0,\"ticks\":\"\"}}}],\"scattercarpet\":[{\"type\":\"scattercarpet\",\"marker\":{\"colorbar\":{\"outlinewidth\":0,\"ticks\":\"\"}}}],\"carpet\":[{\"aaxis\":{\"endlinecolor\":\"#2a3f5f\",\"gridcolor\":\"white\",\"linecolor\":\"white\",\"minorgridcolor\":\"white\",\"startlinecolor\":\"#2a3f5f\"},\"baxis\":{\"endlinecolor\":\"#2a3f5f\",\"gridcolor\":\"white\",\"linecolor\":\"white\",\"minorgridcolor\":\"white\",\"startlinecolor\":\"#2a3f5f\"},\"type\":\"carpet\"}],\"table\":[{\"cells\":{\"fill\":{\"color\":\"#EBF0F8\"},\"line\":{\"color\":\"white\"}},\"header\":{\"fill\":{\"color\":\"#C8D4E3\"},\"line\":{\"color\":\"white\"}},\"type\":\"table\"}],\"barpolar\":[{\"marker\":{\"line\":{\"color\":\"#E5ECF6\",\"width\":0.5},\"pattern\":{\"fillmode\":\"overlay\",\"size\":10,\"solidity\":0.2}},\"type\":\"barpolar\"}],\"pie\":[{\"automargin\":true,\"type\":\"pie\"}]},\"layout\":{\"autotypenumbers\":\"strict\",\"colorway\":[\"#636efa\",\"#EF553B\",\"#00cc96\",\"#ab63fa\",\"#FFA15A\",\"#19d3f3\",\"#FF6692\",\"#B6E880\",\"#FF97FF\",\"#FECB52\"],\"font\":{\"color\":\"#2a3f5f\"},\"hovermode\":\"closest\",\"hoverlabel\":{\"align\":\"left\"},\"paper_bgcolor\":\"white\",\"plot_bgcolor\":\"#E5ECF6\",\"polar\":{\"bgcolor\":\"#E5ECF6\",\"angularaxis\":{\"gridcolor\":\"white\",\"linecolor\":\"white\",\"ticks\":\"\"},\"radialaxis\":{\"gridcolor\":\"white\",\"linecolor\":\"white\",\"ticks\":\"\"}},\"ternary\":{\"bgcolor\":\"#E5ECF6\",\"aaxis\":{\"gridcolor\":\"white\",\"linecolor\":\"white\",\"ticks\":\"\"},\"baxis\":{\"gridcolor\":\"white\",\"linecolor\":\"white\",\"ticks\":\"\"},\"caxis\":{\"gridcolor\":\"white\",\"linecolor\":\"white\",\"ticks\":\"\"}},\"coloraxis\":{\"colorbar\":{\"outlinewidth\":0,\"ticks\":\"\"}},\"colorscale\":{\"sequential\":[[0.0,\"#0d0887\"],[0.1111111111111111,\"#46039f\"],[0.2222222222222222,\"#7201a8\"],[0.3333333333333333,\"#9c179e\"],[0.4444444444444444,\"#bd3786\"],[0.5555555555555556,\"#d8576b\"],[0.6666666666666666,\"#ed7953\"],[0.7777777777777778,\"#fb9f3a\"],[0.8888888888888888,\"#fdca26\"],[1.0,\"#f0f921\"]],\"sequentialminus\":[[0.0,\"#0d0887\"],[0.1111111111111111,\"#46039f\"],[0.2222222222222222,\"#7201a8\"],[0.3333333333333333,\"#9c179e\"],[0.4444444444444444,\"#bd3786\"],[0.5555555555555556,\"#d8576b\"],[0.6666666666666666,\"#ed7953\"],[0.7777777777777778,\"#fb9f3a\"],[0.8888888888888888,\"#fdca26\"],[1.0,\"#f0f921\"]],\"diverging\":[[0,\"#8e0152\"],[0.1,\"#c51b7d\"],[0.2,\"#de77ae\"],[0.3,\"#f1b6da\"],[0.4,\"#fde0ef\"],[0.5,\"#f7f7f7\"],[0.6,\"#e6f5d0\"],[0.7,\"#b8e186\"],[0.8,\"#7fbc41\"],[0.9,\"#4d9221\"],[1,\"#276419\"]]},\"xaxis\":{\"gridcolor\":\"white\",\"linecolor\":\"white\",\"ticks\":\"\",\"title\":{\"standoff\":15},\"zerolinecolor\":\"white\",\"automargin\":true,\"zerolinewidth\":2},\"yaxis\":{\"gridcolor\":\"white\",\"linecolor\":\"white\",\"ticks\":\"\",\"title\":{\"standoff\":15},\"zerolinecolor\":\"white\",\"automargin\":true,\"zerolinewidth\":2},\"scene\":{\"xaxis\":{\"backgroundcolor\":\"#E5ECF6\",\"gridcolor\":\"white\",\"linecolor\":\"white\",\"showbackground\":true,\"ticks\":\"\",\"zerolinecolor\":\"white\",\"gridwidth\":2},\"yaxis\":{\"backgroundcolor\":\"#E5ECF6\",\"gridcolor\":\"white\",\"linecolor\":\"white\",\"showbackground\":true,\"ticks\":\"\",\"zerolinecolor\":\"white\",\"gridwidth\":2},\"zaxis\":{\"backgroundcolor\":\"#E5ECF6\",\"gridcolor\":\"white\",\"linecolor\":\"white\",\"showbackground\":true,\"ticks\":\"\",\"zerolinecolor\":\"white\",\"gridwidth\":2}},\"shapedefaults\":{\"line\":{\"color\":\"#2a3f5f\"}},\"annotationdefaults\":{\"arrowcolor\":\"#2a3f5f\",\"arrowhead\":0,\"arrowwidth\":1},\"geo\":{\"bgcolor\":\"white\",\"landcolor\":\"#E5ECF6\",\"subunitcolor\":\"white\",\"showland\":true,\"showlakes\":true,\"lakecolor\":\"white\"},\"title\":{\"x\":0.05},\"mapbox\":{\"style\":\"light\"}}},\"xaxis\":{\"anchor\":\"y\",\"domain\":[0.0,1.0],\"title\":{\"text\":\"Model\"}},\"yaxis\":{\"anchor\":\"x\",\"domain\":[0.0,1.0],\"title\":{\"text\":\"Rating\"}},\"legend\":{\"tracegroupgap\":0},\"title\":{\"text\":\"Bootstrap of Movie Ratings Estimates\"}},                        {\"responsive\": true}                    ).then(function(){\n",
       "                            \n",
       "var gd = document.getElementById('0748a4e9-cead-44c7-9919-9aeb67b36a3d');\n",
       "var x = new MutationObserver(function (mutations, observer) {{\n",
       "        var display = window.getComputedStyle(gd).display;\n",
       "        if (!display || display === 'none') {{\n",
       "            console.log([gd, 'removed!']);\n",
       "            Plotly.purge(gd);\n",
       "            observer.disconnect();\n",
       "        }}\n",
       "}});\n",
       "\n",
       "// Listen for the removal of the full notebook cells\n",
       "var notebookContainer = gd.closest('#notebook-container');\n",
       "if (notebookContainer) {{\n",
       "    x.observe(notebookContainer, {childList: true});\n",
       "}}\n",
       "\n",
       "// Listen for the clearing of the current output cell\n",
       "var outputEl = gd.closest('.output');\n",
       "if (outputEl) {{\n",
       "    x.observe(outputEl, {childList: true});\n",
       "}}\n",
       "\n",
       "                        })                };                });            </script>        </div>"
      ]
     },
     "metadata": {},
     "output_type": "display_data"
    }
   ],
   "source": [
    "def visualize_bootstrap_scores(df, title):\n",
    "    bars = pd.DataFrame(dict(\n",
    "        lower = df.quantile(.025),\n",
    "        rating = df.quantile(.5),\n",
    "        upper = df.quantile(.975))).reset_index(names=\"model\").sort_values(\"rating\", ascending=False)\n",
    "    bars['error_y'] = bars['upper'] - bars[\"rating\"]\n",
    "    bars['error_y_minus'] = bars['rating'] - bars[\"lower\"]\n",
    "    bars['rating_rounded'] = np.round(bars['rating'], 2)\n",
    "    fig = px.scatter(bars, x=\"model\", y=\"rating\", error_y=\"error_y\",\n",
    "                      error_y_minus=\"error_y_minus\", text=\"rating_rounded\",\n",
    "                      title=title)\n",
    "    fig.update_layout(xaxis_title=\"Model\", yaxis_title=\"Rating\")\n",
    "    return fig\n",
    "\n",
    "fig = visualize_bootstrap_scores(bs_res, \"Bootstrap of Movie Ratings Estimates\")\n",
    "fig.write_html(\"bootstrap_movie_ratings_estimates.html\", full_html=False, include_plotlyjs=\"cdn\")\n",
    "fig\n"
   ]
  },
  {
   "cell_type": "code",
   "execution_count": null,
   "id": "07bb29da",
   "metadata": {},
   "outputs": [],
   "source": []
  }
 ],
 "metadata": {
  "kernelspec": {
   "display_name": "Python 3 (ipykernel)",
   "language": "python",
   "name": "python3"
  },
  "language_info": {
   "codemirror_mode": {
    "name": "ipython",
    "version": 3
   },
   "file_extension": ".py",
   "mimetype": "text/x-python",
   "name": "python",
   "nbconvert_exporter": "python",
   "pygments_lexer": "ipython3",
   "version": "3.10.12"
  }
 },
 "nbformat": 4,
 "nbformat_minor": 5
}
